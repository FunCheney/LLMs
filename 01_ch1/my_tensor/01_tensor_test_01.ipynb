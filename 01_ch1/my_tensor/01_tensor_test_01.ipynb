{
 "cells": [
  {
   "cell_type": "code",
   "id": "initial_id",
   "metadata": {
    "collapsed": true,
    "ExecuteTime": {
     "end_time": "2025-08-15T07:16:46.110513Z",
     "start_time": "2025-08-15T07:16:46.103556Z"
    }
   },
   "source": [
    "import numpy as np\n",
    "import torch\n",
    "tensor = torch.ones(4, 4)"
   ],
   "outputs": [
    {
     "data": {
      "text/plain": [
       "tensor([[1., 1., 1., 1.],\n",
       "        [1., 1., 1., 1.],\n",
       "        [1., 1., 1., 1.],\n",
       "        [1., 1., 1., 1.]])"
      ]
     },
     "execution_count": 2,
     "metadata": {},
     "output_type": "execute_result"
    }
   ],
   "execution_count": 2
  },
  {
   "metadata": {
    "ExecuteTime": {
     "end_time": "2025-08-15T07:18:33.242984Z",
     "start_time": "2025-08-15T07:18:33.234952Z"
    }
   },
   "cell_type": "code",
   "source": [
    "# 改变第一列\n",
    "tensor[:,1] = 0\n",
    "tensor"
   ],
   "id": "bdb932107a7e4b1",
   "outputs": [
    {
     "data": {
      "text/plain": [
       "tensor([[1., 0., 1., 1.],\n",
       "        [1., 0., 1., 1.],\n",
       "        [1., 0., 1., 1.],\n",
       "        [1., 0., 1., 1.]])"
      ]
     },
     "execution_count": 5,
     "metadata": {},
     "output_type": "execute_result"
    }
   ],
   "execution_count": 5
  },
  {
   "metadata": {
    "ExecuteTime": {
     "end_time": "2025-08-15T07:21:22.275867Z",
     "start_time": "2025-08-15T07:21:22.263884Z"
    }
   },
   "cell_type": "code",
   "source": [
    "# dim 0 行拼接 1 列拼接\n",
    "t1 = torch.cat([tensor,tensor,tensor], dim=1)\n",
    "t1"
   ],
   "id": "b39401895fd437e6",
   "outputs": [
    {
     "data": {
      "text/plain": [
       "tensor([[1., 0., 1., 1., 1., 0., 1., 1., 1., 0., 1., 1.],\n",
       "        [1., 0., 1., 1., 1., 0., 1., 1., 1., 0., 1., 1.],\n",
       "        [1., 0., 1., 1., 1., 0., 1., 1., 1., 0., 1., 1.],\n",
       "        [1., 0., 1., 1., 1., 0., 1., 1., 1., 0., 1., 1.]])"
      ]
     },
     "execution_count": 13,
     "metadata": {},
     "output_type": "execute_result"
    }
   ],
   "execution_count": 13
  },
  {
   "metadata": {
    "ExecuteTime": {
     "end_time": "2025-08-15T07:25:54.720169Z",
     "start_time": "2025-08-15T07:25:54.710956Z"
    }
   },
   "cell_type": "code",
   "source": [
    "# Arithmetic operations\n",
    "# tensor.T 转置\n",
    "y = tensor.T\n",
    "y"
   ],
   "id": "9d63989c77529309",
   "outputs": [
    {
     "data": {
      "text/plain": [
       "tensor([[1., 1., 1., 1.],\n",
       "        [0., 0., 0., 0.],\n",
       "        [1., 1., 1., 1.],\n",
       "        [1., 1., 1., 1.]])"
      ]
     },
     "execution_count": 17,
     "metadata": {},
     "output_type": "execute_result"
    }
   ],
   "execution_count": 17
  },
  {
   "metadata": {
    "ExecuteTime": {
     "end_time": "2025-08-15T07:26:24.405553Z",
     "start_time": "2025-08-15T07:26:24.396757Z"
    }
   },
   "cell_type": "code",
   "source": [
    "# 表示对张量（tensor）进行矩阵乘法运算\n",
    "# @ 是 Python 中用于矩阵乘法的运算符（等价于 torch.matmul() 或 tf.matmul()）\n",
    "y1 = tensor @ tensor.T\n",
    "y1"
   ],
   "id": "3643636216bfe3a",
   "outputs": [
    {
     "data": {
      "text/plain": [
       "tensor([[3., 3., 3., 3.],\n",
       "        [3., 3., 3., 3.],\n",
       "        [3., 3., 3., 3.],\n",
       "        [3., 3., 3., 3.]])"
      ]
     },
     "execution_count": 18,
     "metadata": {},
     "output_type": "execute_result"
    }
   ],
   "execution_count": 18
  },
  {
   "metadata": {
    "ExecuteTime": {
     "end_time": "2025-08-15T07:28:18.569219Z",
     "start_time": "2025-08-15T07:28:18.556454Z"
    }
   },
   "cell_type": "code",
   "source": [
    "# @ 与 matmul() 等价\n",
    "y2 = tensor.matmul(tensor.T)\n",
    "y2"
   ],
   "id": "86d8f1599030e114",
   "outputs": [
    {
     "data": {
      "text/plain": [
       "tensor([[3., 3., 3., 3.],\n",
       "        [3., 3., 3., 3.],\n",
       "        [3., 3., 3., 3.],\n",
       "        [3., 3., 3., 3.]])"
      ]
     },
     "execution_count": 19,
     "metadata": {},
     "output_type": "execute_result"
    }
   ],
   "execution_count": 19
  },
  {
   "metadata": {
    "ExecuteTime": {
     "end_time": "2025-08-15T07:29:05.944783Z",
     "start_time": "2025-08-15T07:29:05.928506Z"
    }
   },
   "cell_type": "code",
   "source": [
    "# 将所有的元素转化在 0-1 之间\n",
    "# 表示创建一个与 y1 具有相同形状（shape）和数据类型（dtype）的新张量 y3，并且 y3 中的元素是从区间 [0, 1) 上均匀分布中随机生成的\n",
    "y3 = torch.rand_like(y1)\n",
    "y3"
   ],
   "id": "e7184d0cba3f3256",
   "outputs": [
    {
     "data": {
      "text/plain": [
       "tensor([[0.6529, 0.8992, 0.2101, 0.1671],\n",
       "        [0.2581, 0.4124, 0.6483, 0.7858],\n",
       "        [0.2501, 0.7200, 0.9060, 0.3968],\n",
       "        [0.8516, 0.1644, 0.8585, 0.9944]])"
      ]
     },
     "execution_count": 20,
     "metadata": {},
     "output_type": "execute_result"
    }
   ],
   "execution_count": 20
  },
  {
   "metadata": {
    "ExecuteTime": {
     "end_time": "2025-08-15T07:34:41.023413Z",
     "start_time": "2025-08-15T07:34:41.000195Z"
    }
   },
   "cell_type": "code",
   "source": [
    "# torch.matmul 是 PyTorch 中用于矩阵乘法的函数，功能类似于 @ 运算符\n",
    "# 第一个参数 tensor 和第二个参数 tensor.T 是参与乘法的两个张量（其中 tensor.T 是 tensor 的转置）\n",
    "# out=y3 是一个可选参数，指定将运算结果直接存储到已存在的张量 y3 中，而不是创建一个新的张量\n",
    "torch.matmul(tensor, tensor.T, out=y3)\n",
    "y3"
   ],
   "id": "618472e124e274af",
   "outputs": [
    {
     "data": {
      "text/plain": [
       "tensor([[3., 3., 3., 3.],\n",
       "        [3., 3., 3., 3.],\n",
       "        [3., 3., 3., 3.],\n",
       "        [3., 3., 3., 3.]])"
      ]
     },
     "execution_count": 22,
     "metadata": {},
     "output_type": "execute_result"
    }
   ],
   "execution_count": 22
  },
  {
   "metadata": {
    "ExecuteTime": {
     "end_time": "2025-08-15T07:35:33.297218Z",
     "start_time": "2025-08-15T07:35:33.285975Z"
    }
   },
   "cell_type": "code",
   "source": [
    "# 将 tensor 中每个位置的元素与自身相乘，结果存储在 z1 中。\n",
    "z1 = tensor * tensor\n",
    "z1"
   ],
   "id": "fd8af8b4df9708ee",
   "outputs": [
    {
     "data": {
      "text/plain": [
       "tensor([[1., 0., 1., 1.],\n",
       "        [1., 0., 1., 1.],\n",
       "        [1., 0., 1., 1.],\n",
       "        [1., 0., 1., 1.]])"
      ]
     },
     "execution_count": 23,
     "metadata": {},
     "output_type": "execute_result"
    }
   ],
   "execution_count": 23
  },
  {
   "metadata": {
    "ExecuteTime": {
     "end_time": "2025-08-15T07:35:50.684447Z",
     "start_time": "2025-08-15T07:35:50.678404Z"
    }
   },
   "cell_type": "code",
   "source": [
    "# .mul() 方法进行的逐元素乘法，功能与 * 运算符完全一致。\n",
    "z2 = tensor.mul(tensor)\n",
    "z2"
   ],
   "id": "84d968bb21f4efd",
   "outputs": [
    {
     "data": {
      "text/plain": [
       "tensor([[1., 0., 1., 1.],\n",
       "        [1., 0., 1., 1.],\n",
       "        [1., 0., 1., 1.],\n",
       "        [1., 0., 1., 1.]])"
      ]
     },
     "execution_count": 24,
     "metadata": {},
     "output_type": "execute_result"
    }
   ],
   "execution_count": 24
  },
  {
   "metadata": {
    "ExecuteTime": {
     "end_time": "2025-08-15T07:40:13.670669Z",
     "start_time": "2025-08-15T07:40:13.665942Z"
    }
   },
   "cell_type": "code",
   "source": [
    "# rand_like() 转化为 0-1 之间的元素，随机分布\n",
    "z3 = torch.rand_like(tensor)\n",
    "z3"
   ],
   "id": "143db98a9940912e",
   "outputs": [
    {
     "data": {
      "text/plain": [
       "tensor([[0.3181, 0.3430, 0.7731, 0.9322],\n",
       "        [0.4838, 0.1650, 0.5481, 0.0198],\n",
       "        [0.4677, 0.4041, 0.0169, 0.7904],\n",
       "        [0.1576, 0.4871, 0.3780, 0.9852]])"
      ]
     },
     "execution_count": 27,
     "metadata": {},
     "output_type": "execute_result"
    }
   ],
   "execution_count": 27
  },
  {
   "metadata": {
    "ExecuteTime": {
     "end_time": "2025-08-15T07:41:48.950485Z",
     "start_time": "2025-08-15T07:41:48.938081Z"
    }
   },
   "cell_type": "code",
   "source": [
    "# 元素相乘 存在 z3 中\n",
    "torch.mul(tensor, tensor, out=z3)\n",
    "z3"
   ],
   "id": "2d5a954ac0d3df3d",
   "outputs": [
    {
     "data": {
      "text/plain": [
       "tensor([[1., 0., 1., 1.],\n",
       "        [1., 0., 1., 1.],\n",
       "        [1., 0., 1., 1.],\n",
       "        [1., 0., 1., 1.]])"
      ]
     },
     "execution_count": 28,
     "metadata": {},
     "output_type": "execute_result"
    }
   ],
   "execution_count": 28
  },
  {
   "metadata": {
    "ExecuteTime": {
     "end_time": "2025-08-15T07:47:06.263236Z",
     "start_time": "2025-08-15T07:47:06.259068Z"
    }
   },
   "cell_type": "code",
   "source": [
    "agg = tensor.sum()\n",
    "agg_item = agg.item()\n",
    "print(agg_item, type(agg_item))"
   ],
   "id": "fec5bde236839a5c",
   "outputs": [
    {
     "name": "stdout",
     "output_type": "stream",
     "text": [
      "12.0 <class 'float'>\n"
     ]
    }
   ],
   "execution_count": 31
  },
  {
   "metadata": {
    "ExecuteTime": {
     "end_time": "2025-08-15T09:01:38.188762Z",
     "start_time": "2025-08-15T09:01:38.183490Z"
    }
   },
   "cell_type": "code",
   "source": [
    "tensor.add_(6)\n",
    "tensor"
   ],
   "id": "246063eac97327a4",
   "outputs": [
    {
     "data": {
      "text/plain": [
       "tensor([[7., 6., 7., 7.],\n",
       "        [7., 6., 7., 7.],\n",
       "        [7., 6., 7., 7.],\n",
       "        [7., 6., 7., 7.]])"
      ]
     },
     "execution_count": 33,
     "metadata": {},
     "output_type": "execute_result"
    }
   ],
   "execution_count": 33
  },
  {
   "metadata": {
    "ExecuteTime": {
     "end_time": "2025-08-15T09:02:32.731607Z",
     "start_time": "2025-08-15T09:02:32.715825Z"
    }
   },
   "cell_type": "code",
   "source": [
    "t = torch.ones(5)\n",
    "print(f\"t: {t}\")\n",
    "n = t.()\n",
    "print(f\"n: {n}\")"
   ],
   "id": "2ce86b6a49ed5980",
   "outputs": [
    {
     "name": "stdout",
     "output_type": "stream",
     "text": [
      "t: tensor([1., 1., 1., 1., 1.])\n",
      "n: [1. 1. 1. 1. 1.]\n"
     ]
    }
   ],
   "execution_count": 34
  },
  {
   "metadata": {
    "ExecuteTime": {
     "end_time": "2025-08-15T09:02:51.569134Z",
     "start_time": "2025-08-15T09:02:51.566027Z"
    }
   },
   "cell_type": "code",
   "source": [
    "# 在 cpu 上 tensor 和 numpy 共享内存地址，改边其中一个会改变另一个\n",
    "t.add_(1)\n",
    "print(f\"t: {t}\")\n",
    "print(f\"n: {n}\")"
   ],
   "id": "f807bcb729d39a33",
   "outputs": [
    {
     "name": "stdout",
     "output_type": "stream",
     "text": [
      "t: tensor([2., 2., 2., 2., 2.])\n",
      "n: [2. 2. 2. 2. 2.]\n"
     ]
    }
   ],
   "execution_count": 35
  },
  {
   "metadata": {
    "ExecuteTime": {
     "end_time": "2025-08-15T09:09:18.748750Z",
     "start_time": "2025-08-15T09:09:18.745780Z"
    }
   },
   "cell_type": "code",
   "source": [
    "import numpy as np\n",
    "# NumPy array to Tensor\n",
    "n = np.ones(5)\n",
    "n"
   ],
   "id": "fcecc051e6ca21ea",
   "outputs": [
    {
     "data": {
      "text/plain": [
       "array([1., 1., 1., 1., 1.])"
      ]
     },
     "execution_count": 51,
     "metadata": {},
     "output_type": "execute_result"
    }
   ],
   "execution_count": 51
  },
  {
   "metadata": {
    "ExecuteTime": {
     "end_time": "2025-08-15T09:09:20.749646Z",
     "start_time": "2025-08-15T09:09:20.746703Z"
    }
   },
   "cell_type": "code",
   "source": [
    "t = torch.from_numpy(n)\n",
    "t"
   ],
   "id": "2862287cf3c496c1",
   "outputs": [
    {
     "data": {
      "text/plain": [
       "tensor([1., 1., 1., 1., 1.], dtype=torch.float64)"
      ]
     },
     "execution_count": 52,
     "metadata": {},
     "output_type": "execute_result"
    }
   ],
   "execution_count": 52
  },
  {
   "metadata": {
    "ExecuteTime": {
     "end_time": "2025-08-15T09:09:22.341828Z",
     "start_time": "2025-08-15T09:09:22.339066Z"
    }
   },
   "cell_type": "code",
   "source": [
    "# np 数组的改变也会影响到 tensor\n",
    "np.add(n, 1, out=n)\n",
    "print(f\"t: {t}\")\n",
    "print(f\"n: {n}\")"
   ],
   "id": "196430c7d5a8b063",
   "outputs": [
    {
     "name": "stdout",
     "output_type": "stream",
     "text": [
      "t: tensor([2., 2., 2., 2., 2.], dtype=torch.float64)\n",
      "n: [2. 2. 2. 2. 2.]\n"
     ]
    }
   ],
   "execution_count": 53
  }
 ],
 "metadata": {
  "kernelspec": {
   "display_name": "Python 3",
   "language": "python",
   "name": "python3"
  },
  "language_info": {
   "codemirror_mode": {
    "name": "ipython",
    "version": 2
   },
   "file_extension": ".py",
   "mimetype": "text/x-python",
   "name": "python",
   "nbconvert_exporter": "python",
   "pygments_lexer": "ipython2",
   "version": "2.7.6"
  }
 },
 "nbformat": 4,
 "nbformat_minor": 5
}
