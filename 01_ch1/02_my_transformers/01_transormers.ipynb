{
 "cells": [
  {
   "metadata": {},
   "cell_type": "markdown",
   "source": [
    "数据预处理：transform=ToTensor()\n",
    "\n",
    "transform 参数用于对图像数据进行预处理：\n",
    "\n",
    "ToTensor() 是 torchvision.transforms 中的一个转换工具，作用是将原始的图像数据（通常是 PIL 图像或 numpy 数组，像素值范围为 [0, 255]）转换为 PyTorch 张量（torch.Tensor），并将像素值归一化到 [0, 1] 范围。\n",
    "转换后的数据形状为 (C, H, W)，其中 C=1（灰度图），H=28，W=28（FashionMNIST 图像尺寸为 28×28）。\n",
    "\n",
    "#### target_transform 参数用于对标签（类别信息）进行预处理，这里的处理逻辑是将标签转换为独热编码（one-hot encoding）：\n",
    "\n",
    "1. 原始标签是整数（如 0 到 9，分别对应 10 个类别），而代码中的 Lambda 函数实现了独热编码转换：\n",
    "\n",
    "2. torch.zeros(10, dtype=torch.float)：创建一个长度为 10 的全零张量（因为有 10 个类别）。\n",
    "\n",
    "3. scatter_(0, torch.tensor(y), value=1)：这是核心操作，在张量的指定位置填充 1：\n",
    "\n",
    "    * 第一个参数 0 表示在第 0 维度（即一维张量的长度方向）上操作。\n",
    "    * 第二个参数 torch.tensor(y) 是要填充的位置索引（即原始标签值 y）。\n",
    "    * 第三个参数 value=1 表示填充的值为 1。"
   ],
   "id": "cd6457e3c01a7a3f"
  },
  {
   "metadata": {
    "collapsed": true
   },
   "cell_type": "code",
   "source": [
    "import torch\n",
    "from torchvision import datasets\n",
    "from torchvision.transforms import ToTensor, Lambda\n",
    "ds = datasets.FashionMNIST(\n",
    "    root=\"data\",\n",
    "    train=True,\n",
    "    download=True,\n",
    "    transform=ToTensor(),\n",
    "    target_transform= Lambda(lambda y: y.torch.zeros(10, dtype=torch.float).scatter_(0, torch.tensor(y), value=1)),\n",
    ")"
   ],
   "id": "e3838f0db16e6e04",
   "outputs": [],
   "execution_count": null
  },
  {
   "metadata": {},
   "cell_type": "code",
   "outputs": [],
   "execution_count": null,
   "source": "",
   "id": "ccc1d3801e523f91"
  }
 ],
 "metadata": {
  "kernelspec": {
   "display_name": "Python 3",
   "language": "python",
   "name": "python3"
  },
  "language_info": {
   "codemirror_mode": {
    "name": "ipython",
    "version": 2
   },
   "file_extension": ".py",
   "mimetype": "text/x-python",
   "name": "python",
   "nbconvert_exporter": "python",
   "pygments_lexer": "ipython2",
   "version": "2.7.6"
  }
 },
 "nbformat": 4,
 "nbformat_minor": 5
}
