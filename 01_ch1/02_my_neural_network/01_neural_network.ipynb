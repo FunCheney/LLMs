{
 "cells": [
  {
   "metadata": {
    "ExecuteTime": {
     "end_time": "2025-08-18T07:17:44.214414Z",
     "start_time": "2025-08-18T07:17:42.406606Z"
    }
   },
   "cell_type": "code",
   "source": [
    "import os\n",
    "import torch\n",
    "from torch import nn\n",
    "from torch.utils.data import DataLoader\n",
    "from torchvision import datasets, transforms"
   ],
   "id": "38c01355079e9082",
   "outputs": [],
   "execution_count": 1
  },
  {
   "metadata": {
    "ExecuteTime": {
     "end_time": "2025-08-18T07:17:45.965836Z",
     "start_time": "2025-08-18T07:17:45.938211Z"
    }
   },
   "cell_type": "code",
   "source": [
    "device = torch.accelerator.current_accelerator().type if torch.accelerator.is_available() else \"cpu\"\n",
    "print(f\"Using {device} device\")"
   ],
   "id": "8c2e4e75b7a374e8",
   "outputs": [
    {
     "name": "stdout",
     "output_type": "stream",
     "text": [
      "Using mps device\n"
     ]
    }
   ],
   "execution_count": 2
  },
  {
   "metadata": {
    "collapsed": true,
    "ExecuteTime": {
     "end_time": "2025-08-18T07:17:48.008061Z",
     "start_time": "2025-08-18T07:17:48.004696Z"
    }
   },
   "cell_type": "code",
   "source": [
    "# 定义了一个继承自 PyTorch 的nn.Module的神经网络类\n",
    "class NeuralNetwork(nn.Module):\n",
    "    def __init__(self):\n",
    "        # 调用父类的构造函数\n",
    "        super().__init__()\n",
    "        # 创建一个展平层，用于将二维图像转换为一维向量\n",
    "         # 首先通过nn.Flatten()将 28×28 的输入图像展平为 784 个元素的一维向量\n",
    "        self.flatten = nn.Flatten()\n",
    "        # 定义了一个包含多个线性层和激活函数的序列结构\n",
    "        self.linear_relu_stack = nn.Sequential(\n",
    "            # 第一个线性层 (nn.Linear(28*28, 512)) 将 784 维输入转换为 512 维输出\n",
    "            nn.Linear(28 * 28, 512),\n",
    "            # 接着是 ReLU 激活函数 (nn.ReLU())，引入非线性特性\n",
    "            nn.ReLU(),\n",
    "            # 第二个线性层 (nn.Linear(512, 512)) 保持 512 维的特征空间\n",
    "            nn.Linear(512, 512),\n",
    "            # 再次使用 ReLU 激活函数\n",
    "            nn.ReLU(),\n",
    "            # 最后一个线性层 (nn.Linear(512, 10)) 将 512 维特征映射到 10 个输出，对应 10 个数字 (0-9) 的类别\n",
    "            nn.Linear(512, 10),\n",
    "        )\n",
    "\n",
    "    def forward(self, x):\n",
    "        '''\n",
    "        forward方法定义了数据在网络中的流动方式\n",
    "            首先将输入x通过展平层\n",
    "            然后通过定义好的linear_relu_stack序列\n",
    "            返回最终的 logits（未经过 softmax 激活的原始输出）\n",
    "        :param x: 输入\n",
    "        :return: 最终的 logits（未经过 softmax 激活的原始输出）\n",
    "        '''\n",
    "\n",
    "        x = self.flatten(x)\n",
    "        logits = self.linear_relu_stack(x)\n",
    "        return logits"
   ],
   "id": "6a9277d561280f6e",
   "outputs": [],
   "execution_count": 3
  },
  {
   "metadata": {
    "ExecuteTime": {
     "end_time": "2025-08-18T07:18:23.556513Z",
     "start_time": "2025-08-18T07:18:23.464354Z"
    }
   },
   "cell_type": "code",
   "source": [
    "# 定义 NeuralNetwork 实例，\n",
    "model = NeuralNetwork().to(device)\n",
    "print(model)"
   ],
   "id": "590095a89769e9d2",
   "outputs": [
    {
     "name": "stdout",
     "output_type": "stream",
     "text": [
      "NeuralNetwork(\n",
      "  (flatten): Flatten(start_dim=1, end_dim=-1)\n",
      "  (linear_relu_stack): Sequential(\n",
      "    (0): Linear(in_features=784, out_features=512, bias=True)\n",
      "    (1): ReLU()\n",
      "    (2): Linear(in_features=512, out_features=512, bias=True)\n",
      "    (3): ReLU()\n",
      "    (4): Linear(in_features=512, out_features=10, bias=True)\n",
      "  )\n",
      ")\n"
     ]
    }
   ],
   "execution_count": 4
  },
  {
   "metadata": {
    "ExecuteTime": {
     "end_time": "2025-08-18T08:53:18.095125Z",
     "start_time": "2025-08-18T08:53:18.072988Z"
    }
   },
   "cell_type": "code",
   "source": [
    "# 使用torch.rand()生成一个随机张量作为输入数据, 张量形状为(1, 28, 28)，表示：1 个样本，每个样本是 28×28 的图像\n",
    "# device=device将数据移动到指定的计算设备（可能是 CPU 或 GPU）\n",
    "X = torch.rand(1, 28, 28, device=device)\n",
    "# 将输入数据X传入神经网络模型model进行前向计算,得到的logits是模型的原始输出\n",
    "# 输出（未经过归一化的分数），形状为(1, 10)（1 个样本，10 个类别）\n",
    "logits = model(X)\n",
    "# 使用 Softmax 函数将 logits 转换为概率分布\n",
    "# dim=1表示在类别维度上进行归一化（确保每个样本的 10 个类别概率之和为 1）\n",
    "# 得到的pred_probab是每个类别的预测概率，形状仍为(1, 10)\n",
    "pred_probab = nn.Softmax(dim=1)(logits)\n",
    "print(pred_probab)\n",
    "# 使用argmax(1)找到概率最大的类别索引（在类别维度上）\n",
    "y_pred = pred_probab.argmax(1)\n",
    "print(f\"Predicted class: {y_pred}\")"
   ],
   "id": "b420f560eaaf8b00",
   "outputs": [
    {
     "name": "stdout",
     "output_type": "stream",
     "text": [
      "tensor([[0.0962, 0.1028, 0.0940, 0.1049, 0.0966, 0.0987, 0.1071, 0.0898, 0.1080,\n",
      "         0.1018]], device='mps:0', grad_fn=<SoftmaxBackward0>)\n",
      "Predicted class: tensor([8], device='mps:0')\n"
     ]
    }
   ],
   "execution_count": 8
  },
  {
   "metadata": {
    "ExecuteTime": {
     "end_time": "2025-08-18T08:55:02.030483Z",
     "start_time": "2025-08-18T08:55:02.022386Z"
    }
   },
   "cell_type": "code",
   "source": [
    "input_image = torch.rand(3, 28, 28)\n",
    "print(input_image.size())"
   ],
   "id": "7f2c61c91be4e620",
   "outputs": [
    {
     "name": "stdout",
     "output_type": "stream",
     "text": [
      "torch.Size([3, 28, 28])\n"
     ]
    }
   ],
   "execution_count": 9
  },
  {
   "metadata": {
    "ExecuteTime": {
     "end_time": "2025-08-18T08:57:26.348047Z",
     "start_time": "2025-08-18T08:57:26.345021Z"
    }
   },
   "cell_type": "code",
   "source": [
    "flatten = nn.Flatten()\n",
    "flat_image = flatten(input_image)\n",
    "print(flat_image)\n",
    "print(flat_image.size())"
   ],
   "id": "2b8271baffc809e5",
   "outputs": [
    {
     "name": "stdout",
     "output_type": "stream",
     "text": [
      "tensor([[0.4706, 0.7414, 0.3911,  ..., 0.9447, 0.3018, 0.8735],\n",
      "        [0.8664, 0.0698, 0.8932,  ..., 0.6892, 0.3485, 0.0354],\n",
      "        [0.6275, 0.4386, 0.0691,  ..., 0.4209, 0.7809, 0.8359]])\n",
      "torch.Size([3, 784])\n"
     ]
    }
   ],
   "execution_count": 11
  },
  {
   "metadata": {
    "ExecuteTime": {
     "end_time": "2025-08-18T09:00:43.500440Z",
     "start_time": "2025-08-18T09:00:43.497910Z"
    }
   },
   "cell_type": "code",
   "source": [
    "layer1 = nn.Linear(in_features= 28 * 28, out_features= 20)\n",
    "hidden1 = layer1(flat_image)\n",
    "print(hidden1.size())"
   ],
   "id": "a792fe5c24c99370",
   "outputs": [
    {
     "name": "stdout",
     "output_type": "stream",
     "text": [
      "torch.Size([3, 20])\n"
     ]
    }
   ],
   "execution_count": 15
  },
  {
   "metadata": {
    "ExecuteTime": {
     "end_time": "2025-08-18T09:01:48.229049Z",
     "start_time": "2025-08-18T09:01:48.215990Z"
    }
   },
   "cell_type": "code",
   "source": [
    "print(f\"Before ReLU: {hidden1}\\n\\n\")\n",
    "hidden1 = nn.ReLU()(hidden1)\n",
    "print(f\"After ReLU: {hidden1}\")"
   ],
   "id": "f5ddb0353a5af447",
   "outputs": [
    {
     "name": "stdout",
     "output_type": "stream",
     "text": [
      "Before ReLU: tensor([[ 0.1223,  0.0242,  0.2426,  0.0364, -0.1334,  0.3675,  0.6220,  0.1916,\n",
      "         -0.3052,  0.0701, -0.1356, -0.0931,  0.1212,  0.2348,  0.1169,  0.3111,\n",
      "          0.3042,  0.2884, -0.6837,  0.2741],\n",
      "        [ 0.0785, -0.1754,  0.4646,  0.2398, -0.6994,  0.1631,  0.4435,  0.2106,\n",
      "         -0.3928, -0.1242, -0.2128, -0.1147,  0.0433,  0.1571, -0.2111,  0.2799,\n",
      "          0.1298,  0.0816, -0.6057,  0.4190],\n",
      "        [ 0.1813,  0.4338,  0.2983,  0.1512, -0.3722,  0.0937,  0.9095, -0.1226,\n",
      "          0.0574,  0.0598, -0.0434, -0.2293, -0.0790,  0.2621, -0.0398,  0.2389,\n",
      "          0.2833,  0.1925, -0.4494,  0.2398]], grad_fn=<AddmmBackward0>)\n",
      "\n",
      "\n",
      "After ReLU: tensor([[0.1223, 0.0242, 0.2426, 0.0364, 0.0000, 0.3675, 0.6220, 0.1916, 0.0000,\n",
      "         0.0701, 0.0000, 0.0000, 0.1212, 0.2348, 0.1169, 0.3111, 0.3042, 0.2884,\n",
      "         0.0000, 0.2741],\n",
      "        [0.0785, 0.0000, 0.4646, 0.2398, 0.0000, 0.1631, 0.4435, 0.2106, 0.0000,\n",
      "         0.0000, 0.0000, 0.0000, 0.0433, 0.1571, 0.0000, 0.2799, 0.1298, 0.0816,\n",
      "         0.0000, 0.4190],\n",
      "        [0.1813, 0.4338, 0.2983, 0.1512, 0.0000, 0.0937, 0.9095, 0.0000, 0.0574,\n",
      "         0.0598, 0.0000, 0.0000, 0.0000, 0.2621, 0.0000, 0.2389, 0.2833, 0.1925,\n",
      "         0.0000, 0.2398]], grad_fn=<ReluBackward0>)\n"
     ]
    }
   ],
   "execution_count": 16
  },
  {
   "metadata": {
    "ExecuteTime": {
     "end_time": "2025-08-18T09:28:00.674354Z",
     "start_time": "2025-08-18T09:28:00.638744Z"
    }
   },
   "cell_type": "code",
   "source": [
    "seq_models = nn.Sequential(\n",
    "    flatten,\n",
    "    layer1,\n",
    "    nn.ReLU(),\n",
    "    nn.Linear(20, 10),\n",
    ")\n",
    "input_image = torch.rand(3, 28, 28)\n",
    "logits = seq_models(input_image)"
   ],
   "id": "c4f4c12b0365c7ab",
   "outputs": [],
   "execution_count": 17
  },
  {
   "metadata": {
    "ExecuteTime": {
     "end_time": "2025-08-18T09:29:04.998527Z",
     "start_time": "2025-08-18T09:29:04.977448Z"
    }
   },
   "cell_type": "code",
   "source": [
    "softmax = nn.Softmax(dim=1)\n",
    "pred_probab = softmax(logits)"
   ],
   "id": "d742621f92f92492",
   "outputs": [],
   "execution_count": 18
  },
  {
   "metadata": {
    "ExecuteTime": {
     "end_time": "2025-08-18T09:29:58.012173Z",
     "start_time": "2025-08-18T09:29:57.613629Z"
    }
   },
   "cell_type": "code",
   "source": [
    "print(f\"Model structure: {model}\\n\\n\")\n",
    "for name, param in model.named_parameters():\n",
    "    print(f\"Layer: {name} | Size: {param.size()} | Values : {param[:2]} \\n\")"
   ],
   "id": "97f90342239abb45",
   "outputs": [
    {
     "name": "stdout",
     "output_type": "stream",
     "text": [
      "Model structure: NeuralNetwork(\n",
      "  (flatten): Flatten(start_dim=1, end_dim=-1)\n",
      "  (linear_relu_stack): Sequential(\n",
      "    (0): Linear(in_features=784, out_features=512, bias=True)\n",
      "    (1): ReLU()\n",
      "    (2): Linear(in_features=512, out_features=512, bias=True)\n",
      "    (3): ReLU()\n",
      "    (4): Linear(in_features=512, out_features=10, bias=True)\n",
      "  )\n",
      ")\n",
      "\n",
      "\n",
      "Layer: linear_relu_stack.0.weight | Size: torch.Size([512, 784]) | Values : tensor([[ 0.0005,  0.0004, -0.0255,  ..., -0.0356,  0.0109,  0.0356],\n",
      "        [-0.0184,  0.0276,  0.0258,  ...,  0.0347, -0.0200, -0.0089]],\n",
      "       device='mps:0', grad_fn=<SliceBackward0>) \n",
      "\n",
      "Layer: linear_relu_stack.0.bias | Size: torch.Size([512]) | Values : tensor([-0.0052,  0.0122], device='mps:0', grad_fn=<SliceBackward0>) \n",
      "\n",
      "Layer: linear_relu_stack.2.weight | Size: torch.Size([512, 512]) | Values : tensor([[ 0.0065,  0.0316,  0.0246,  ...,  0.0128,  0.0423, -0.0263],\n",
      "        [ 0.0161,  0.0121,  0.0193,  ...,  0.0188, -0.0219, -0.0322]],\n",
      "       device='mps:0', grad_fn=<SliceBackward0>) \n",
      "\n",
      "Layer: linear_relu_stack.2.bias | Size: torch.Size([512]) | Values : tensor([-0.0396, -0.0197], device='mps:0', grad_fn=<SliceBackward0>) \n",
      "\n",
      "Layer: linear_relu_stack.4.weight | Size: torch.Size([10, 512]) | Values : tensor([[-0.0031, -0.0192,  0.0205,  ..., -0.0102, -0.0220,  0.0405],\n",
      "        [-0.0070,  0.0181, -0.0336,  ..., -0.0143, -0.0168,  0.0410]],\n",
      "       device='mps:0', grad_fn=<SliceBackward0>) \n",
      "\n",
      "Layer: linear_relu_stack.4.bias | Size: torch.Size([10]) | Values : tensor([0.0305, 0.0297], device='mps:0', grad_fn=<SliceBackward0>) \n",
      "\n"
     ]
    }
   ],
   "execution_count": 20
  }
 ],
 "metadata": {
  "kernelspec": {
   "display_name": "Python 3",
   "language": "python",
   "name": "python3"
  },
  "language_info": {
   "codemirror_mode": {
    "name": "ipython",
    "version": 2
   },
   "file_extension": ".py",
   "mimetype": "text/x-python",
   "name": "python",
   "nbconvert_exporter": "python",
   "pygments_lexer": "ipython2",
   "version": "2.7.6"
  }
 },
 "nbformat": 4,
 "nbformat_minor": 5
}
