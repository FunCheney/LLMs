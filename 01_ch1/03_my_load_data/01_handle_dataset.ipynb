{
 "cells": [
  {
   "metadata": {},
   "cell_type": "markdown",
   "source": "### 自定义 Dataset",
   "id": "501cd7fc623cd3ad"
  },
  {
   "metadata": {
    "collapsed": true,
    "ExecuteTime": {
     "end_time": "2025-08-20T10:03:03.343458Z",
     "start_time": "2025-08-20T10:03:03.332692Z"
    }
   },
   "cell_type": "code",
   "outputs": [
    {
     "name": "stdout",
     "output_type": "stream",
     "text": [
      "4\n",
      "(tensor([3, 4]), tensor(0))\n",
      "(tensor([5, 6]), tensor(4))\n",
      "(tensor([7, 8]), tensor(5))\n"
     ]
    }
   ],
   "execution_count": 4,
   "source": [
    "import torch\n",
    "from torch.utils.data import Dataset\n",
    "\n",
    "# 自定义数据集类\n",
    "class MyDataset(Dataset):\n",
    "    '''\n",
    "    初始化数据集 X 和 Y 是两个数据集 或数组\n",
    "    X: 输入特征\n",
    "    Y: 目标标签\n",
    "    '''\n",
    "    def __init__(self, X, Y):\n",
    "        self.X = X\n",
    "        self.Y = Y\n",
    "\n",
    "    def __len__(self):\n",
    "        return len(self.X)\n",
    "\n",
    "    def __getitem__(self, idx):\n",
    "        x = torch.tensor(self.X[idx])\n",
    "        y = torch.tensor(self.Y[idx])\n",
    "        return x, y\n",
    "\n",
    "X = [[1,2],[3,4],[5,6],[7,8]]\n",
    "Y = [1, 0, 4, 5]\n",
    "dataset = MyDataset(X, Y)\n",
    "print(dataset.__len__())\n",
    "print(dataset.__getitem__(1))\n",
    "print(dataset.__getitem__(2))\n",
    "print(dataset.__getitem__(3))"
   ],
   "id": "af626d449ae383ef"
  },
  {
   "metadata": {},
   "cell_type": "markdown",
   "source": "### 使用 DataLoader 加载数据",
   "id": "2b76c39dd87991ce"
  },
  {
   "metadata": {
    "ExecuteTime": {
     "end_time": "2025-08-22T03:25:55.725983Z",
     "start_time": "2025-08-22T03:25:53.061991Z"
    }
   },
   "cell_type": "code",
   "source": [
    "import torch\n",
    "from torch.utils.data import Dataset\n",
    "from torch.utils.data import DataLoader\n",
    "\n",
    "class DataSetTest(Dataset):\n",
    "    def __init__(self, data, labels):\n",
    "        self.data = data\n",
    "        self.labels = labels\n",
    "\n",
    "    def __len__(self):\n",
    "        return len(self.data)\n",
    "\n",
    "\n",
    "    def __getitem__(self, idx):\n",
    "        sample = self.data[idx]\n",
    "        label = self.labels[idx]\n",
    "        return sample, label\n",
    "\n",
    "data = torch.randn(100, 5) # 100 个样本, 每个样本有 5个特征\n",
    "labes = torch.randint(0, 2, (100,)) # 100 个标签， 取值为 0，1\n",
    "\n",
    "dataset = DataSetTest(data, labes)\n",
    "\n",
    "print(\"数据集大小 {}\", dataset.__len__())\n",
    "print(\"第 0 个 样本 {}\", dataset.__getitem__(0))\n",
    "print(\"第 1 个岩本样本 {}\", dataset.__getitem__(1))"
   ],
   "id": "afd5d4b6951ef375",
   "outputs": [
    {
     "name": "stdout",
     "output_type": "stream",
     "text": [
      "数据集大小 {} 100\n",
      "第 0 个 样本 {} (tensor([ 1.3002, -0.1806, -0.4974, -0.7626,  0.8662]), tensor(0))\n",
      "第 1 个岩本样本 {} (tensor([ 0.2172, -0.2023,  1.5252,  0.5274, -0.0121]), tensor(0))\n"
     ]
    }
   ],
   "execution_count": 1
  },
  {
   "metadata": {},
   "cell_type": "markdown",
   "source": [
    "DataLoader 是 PyTorch 提供的数据加载器，用于批量加载数据集\n",
    "1. 批量加载：通过设置 batch_size。\n",
    "2. 数据打乱：通过设置 shuffle=True。\n",
    "3. 多线程加速：通过设置 num_workers。\n",
    "4. 迭代访问：方便地按批次访问数据。"
   ],
   "id": "dd3acac05a1df305"
  },
  {
   "metadata": {
    "ExecuteTime": {
     "end_time": "2025-08-22T05:59:32.780644Z",
     "start_time": "2025-08-22T05:59:32.722899Z"
    }
   },
   "cell_type": "code",
   "source": [
    "dataloader = DataLoader(dataset, batch_size=10, shuffle=True)\n",
    "\n",
    "for batch_idx, (batch_data, batch_labels) in enumerate(dataloader):\n",
    "    print(f\"批次 {batch_idx + 1}\")\n",
    "    print(\"数据:\", batch_data)\n",
    "    print(\"标签:\", batch_labels)\n",
    "    if batch_idx == 2:  # 仅显示前 3 个批次\n",
    "        break"
   ],
   "id": "2c80d01bf391e603",
   "outputs": [
    {
     "name": "stdout",
     "output_type": "stream",
     "text": [
      "批次 1\n",
      "数据: tensor([[ 0.4088, -0.0193, -2.5040, -0.7485, -0.1598],\n",
      "        [ 0.5485, -0.7560, -0.1211,  1.3577,  0.6904],\n",
      "        [-0.7922, -0.1496, -0.2619,  1.2570, -1.0274],\n",
      "        [ 1.3522,  0.2476,  1.2301,  0.0330,  2.6778],\n",
      "        [-0.1759,  1.2569, -0.0472,  0.8821, -1.2578],\n",
      "        [ 1.3820, -0.2695,  0.9457, -1.0306, -0.2549],\n",
      "        [-0.8625, -0.5142,  1.1555, -1.2188, -0.4447],\n",
      "        [ 0.1385,  0.2428,  0.4461, -0.5696,  0.5841],\n",
      "        [ 0.4559,  0.1202, -0.3654,  0.9894, -1.1270],\n",
      "        [ 0.7394,  0.3705,  2.1455,  1.4369,  1.6942]])\n",
      "标签: tensor([0, 0, 0, 1, 0, 0, 1, 0, 0, 1])\n",
      "批次 2\n",
      "数据: tensor([[ 0.4967, -0.4638,  0.6870,  0.0507,  0.1016],\n",
      "        [ 0.3237, -1.9158,  0.6137,  1.3116, -0.8802],\n",
      "        [ 0.0528, -0.6937,  0.5170, -1.1847, -0.3016],\n",
      "        [ 1.4723,  0.5431, -0.0420, -1.1302, -1.5780],\n",
      "        [ 0.2952,  1.8302,  0.3652, -0.6943, -1.4074],\n",
      "        [ 0.5288,  1.5299,  0.2080,  0.7779,  0.9117],\n",
      "        [ 0.4510, -1.3475,  1.7125, -0.6555,  1.5589],\n",
      "        [ 1.2095,  0.6994, -0.6647, -1.0099, -0.7961],\n",
      "        [-0.2735, -0.0952, -0.1928, -0.7437,  0.2752],\n",
      "        [-0.7398,  0.6272,  0.6419,  0.4639, -0.5113]])\n",
      "标签: tensor([0, 0, 1, 0, 1, 1, 0, 0, 0, 1])\n",
      "批次 3\n",
      "数据: tensor([[ 1.1715, -0.4078,  0.8601,  0.1626, -1.3107],\n",
      "        [ 1.0538,  0.7491,  1.4784,  0.4808,  1.0218],\n",
      "        [ 0.2465, -0.4511, -1.3065,  1.6765, -0.6583],\n",
      "        [ 2.2902, -0.6924, -0.6084,  0.2213,  1.3003],\n",
      "        [-0.1405,  0.2767, -0.5573, -0.1393, -0.7882],\n",
      "        [-1.0878,  1.9505, -0.4403, -1.6924,  0.2139],\n",
      "        [ 0.2513, -0.8572,  0.8354,  0.7374, -0.3286],\n",
      "        [-0.3973, -0.0610,  0.2501, -0.1394, -0.7603],\n",
      "        [ 0.6000,  1.5857,  0.8143, -0.6631,  1.0068],\n",
      "        [ 0.7758, -0.5092,  0.1969, -0.1293, -2.1216]])\n",
      "标签: tensor([1, 1, 1, 1, 0, 1, 1, 1, 1, 1])\n"
     ]
    }
   ],
   "execution_count": 2
  },
  {
   "metadata": {
    "ExecuteTime": {
     "end_time": "2025-08-22T06:16:47.635369Z",
     "start_time": "2025-08-22T06:16:21.425512Z"
    }
   },
   "cell_type": "code",
   "source": [
    "import torchvision\n",
    "import torchvision.transforms as transforms\n",
    "from torch.utils.data import DataLoader\n",
    "\n",
    "# 定义数据预处理\n",
    "transform = transforms.Compose([\n",
    "    transforms.ToTensor(),  # 转换为张量\n",
    "    transforms.Normalize((0.5,), (0.5,))  # 标准化\n",
    "])\n",
    "\n",
    "# 加载训练数据集\n",
    "train_dataset = torchvision.datasets.MNIST(\n",
    "    root='./data', train=True, transform=transform, download=True)\n",
    "\n",
    "# 使用 DataLoader 加载数据\n",
    "train_loader = DataLoader(train_dataset, batch_size=32, shuffle=True)\n",
    "\n",
    "# 查看一个批次的数据\n",
    "data_iter = iter(train_loader)\n",
    "images, labels = next(data_iter)\n",
    "print(f\"批次图像大小: {images.shape}\")  # 输出形状为 [batch_size, 1, 28, 28]\n",
    "print(f\"批次标签: {labels}\")"
   ],
   "id": "9932b6760cd51461",
   "outputs": [
    {
     "name": "stderr",
     "output_type": "stream",
     "text": [
      "100%|██████████| 9.91M/9.91M [00:09<00:00, 1.08MB/s]\n",
      "100%|██████████| 28.9k/28.9k [00:00<00:00, 164kB/s]\n",
      "100%|██████████| 1.65M/1.65M [00:01<00:00, 836kB/s] \n",
      "100%|██████████| 4.54k/4.54k [00:00<00:00, 1.85MB/s]"
     ]
    },
    {
     "name": "stdout",
     "output_type": "stream",
     "text": [
      "批次图像大小: torch.Size([32, 1, 28, 28])\n",
      "批次标签: tensor([2, 3, 8, 6, 0, 9, 3, 4, 5, 1, 0, 6, 7, 6, 9, 6, 5, 9, 6, 3, 6, 0, 6, 4,\n",
      "        8, 5, 7, 7, 8, 2, 6, 8])\n"
     ]
    },
    {
     "name": "stderr",
     "output_type": "stream",
     "text": [
      "\n"
     ]
    }
   ],
   "execution_count": 3
  }
 ],
 "metadata": {
  "kernelspec": {
   "display_name": "Python 3",
   "language": "python",
   "name": "python3"
  },
  "language_info": {
   "codemirror_mode": {
    "name": "ipython",
    "version": 2
   },
   "file_extension": ".py",
   "mimetype": "text/x-python",
   "name": "python",
   "nbconvert_exporter": "python",
   "pygments_lexer": "ipython2",
   "version": "2.7.6"
  }
 },
 "nbformat": 4,
 "nbformat_minor": 5
}
