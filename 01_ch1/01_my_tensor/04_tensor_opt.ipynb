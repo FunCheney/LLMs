{
 "cells": [
  {
   "cell_type": "code",
   "id": "initial_id",
   "metadata": {
    "collapsed": true,
    "ExecuteTime": {
     "end_time": "2025-08-18T11:36:21.902065Z",
     "start_time": "2025-08-18T11:36:21.000889Z"
    }
   },
   "source": [
    "import torch\n",
    "tensor = torch.tensor([[1,2,3],[4,5,6]], dtype=torch.float32)\n",
    "tensor"
   ],
   "outputs": [
    {
     "data": {
      "text/plain": [
       "tensor([[1., 2., 3.],\n",
       "        [4., 5., 6.]])"
      ]
     },
     "execution_count": 1,
     "metadata": {},
     "output_type": "execute_result"
    }
   ],
   "execution_count": 1
  },
  {
   "metadata": {},
   "cell_type": "markdown",
   "source": "### 索引和切片操作",
   "id": "5c40ea4dddd7cef6"
  },
  {
   "metadata": {
    "ExecuteTime": {
     "end_time": "2025-08-18T11:36:51.303981Z",
     "start_time": "2025-08-18T11:36:51.297290Z"
    }
   },
   "cell_type": "code",
   "outputs": [
    {
     "data": {
      "text/plain": [
       "tensor([1., 2., 3.])"
      ]
     },
     "execution_count": 2,
     "metadata": {},
     "output_type": "execute_result"
    }
   ],
   "execution_count": 2,
   "source": [
    "# 去第一行\n",
    "tensor[0]"
   ],
   "id": "c1379050155e00c8"
  },
  {
   "metadata": {
    "ExecuteTime": {
     "end_time": "2025-08-18T11:37:53.959905Z",
     "start_time": "2025-08-18T11:37:53.954898Z"
    }
   },
   "cell_type": "code",
   "outputs": [
    {
     "data": {
      "text/plain": [
       "tensor(1.)"
      ]
     },
     "execution_count": 5,
     "metadata": {},
     "output_type": "execute_result"
    }
   ],
   "execution_count": 5,
   "source": [
    "# 取特定位置的元素\n",
    "tensor[0][0]"
   ],
   "id": "ea73ccfdb2fbc3ba"
  },
  {
   "metadata": {
    "ExecuteTime": {
     "end_time": "2025-08-18T11:37:55.160271Z",
     "start_time": "2025-08-18T11:37:55.156551Z"
    }
   },
   "cell_type": "code",
   "outputs": [
    {
     "data": {
      "text/plain": [
       "tensor(1.)"
      ]
     },
     "execution_count": 6,
     "metadata": {},
     "output_type": "execute_result"
    }
   ],
   "execution_count": 6,
   "source": "tensor[0, 0]",
   "id": "f31d3bc5ffd66662"
  },
  {
   "metadata": {
    "ExecuteTime": {
     "end_time": "2025-08-18T11:38:30.010552Z",
     "start_time": "2025-08-18T11:38:29.999851Z"
    }
   },
   "cell_type": "code",
   "outputs": [
    {
     "data": {
      "text/plain": [
       "tensor([2., 5.])"
      ]
     },
     "execution_count": 7,
     "metadata": {},
     "output_type": "execute_result"
    }
   ],
   "execution_count": 7,
   "source": [
    "# 取第二列所有元素\n",
    "tensor[:,1]"
   ],
   "id": "3b59d534e36b79a6"
  },
  {
   "metadata": {},
   "cell_type": "markdown",
   "source": "### 形状变换操作",
   "id": "5816f1a4a4af28ac"
  },
  {
   "metadata": {
    "ExecuteTime": {
     "end_time": "2025-08-18T11:40:48.538991Z",
     "start_time": "2025-08-18T11:40:48.529127Z"
    }
   },
   "cell_type": "code",
   "source": [
    "reshaped = tensor.view(3, 2)\n",
    "reshaped"
   ],
   "id": "91855bd89bf1ca97",
   "outputs": [
    {
     "data": {
      "text/plain": [
       "tensor([[1., 2.],\n",
       "        [3., 4.],\n",
       "        [5., 6.]])"
      ]
     },
     "execution_count": 11,
     "metadata": {},
     "output_type": "execute_result"
    }
   ],
   "execution_count": 11
  },
  {
   "metadata": {
    "ExecuteTime": {
     "end_time": "2025-08-18T11:42:12.734896Z",
     "start_time": "2025-08-18T11:42:12.717029Z"
    }
   },
   "cell_type": "code",
   "source": [
    "# 将张量展平成一维\n",
    "flattened = tensor.flatten()\n",
    "flattened"
   ],
   "id": "ce353b798b3ed2dd",
   "outputs": [
    {
     "data": {
      "text/plain": [
       "tensor([1., 2., 3., 4., 5., 6.])"
      ]
     },
     "execution_count": 13,
     "metadata": {},
     "output_type": "execute_result"
    }
   ],
   "execution_count": 13
  },
  {
   "metadata": {},
   "cell_type": "markdown",
   "source": "### 数学运算操作\n",
   "id": "8e8ac540cc27b0f9"
  },
  {
   "metadata": {
    "ExecuteTime": {
     "end_time": "2025-08-18T11:43:29.348057Z",
     "start_time": "2025-08-18T11:43:29.335228Z"
    }
   },
   "cell_type": "code",
   "source": [
    "# 张量加法\n",
    "tensor_add = tensor + 10\n",
    "tensor_add"
   ],
   "id": "8e9896f6ced619d7",
   "outputs": [
    {
     "data": {
      "text/plain": [
       "tensor([[11., 12., 13.],\n",
       "        [14., 15., 16.]])"
      ]
     },
     "execution_count": 14,
     "metadata": {},
     "output_type": "execute_result"
    }
   ],
   "execution_count": 14
  },
  {
   "metadata": {
    "ExecuteTime": {
     "end_time": "2025-08-18T11:44:21.166365Z",
     "start_time": "2025-08-18T11:44:21.157643Z"
    }
   },
   "cell_type": "code",
   "source": [
    "# 张量乘法\n",
    "tensor_mul = tensor * 2\n",
    "tensor_mul"
   ],
   "id": "4e9ac614033e1756",
   "outputs": [
    {
     "data": {
      "text/plain": [
       "tensor([[ 2.,  4.,  6.],\n",
       "        [ 8., 10., 12.]])"
      ]
     },
     "execution_count": 15,
     "metadata": {},
     "output_type": "execute_result"
    }
   ],
   "execution_count": 15
  },
  {
   "metadata": {
    "ExecuteTime": {
     "end_time": "2025-08-18T11:45:15.625079Z",
     "start_time": "2025-08-18T11:45:15.621747Z"
    }
   },
   "cell_type": "code",
   "source": [
    "# 计算所有元素的和\n",
    "tensor_sum = tensor.sum()\n",
    "tensor_sum.item()"
   ],
   "id": "a54c180fa1224744",
   "outputs": [
    {
     "data": {
      "text/plain": [
       "21.0"
      ]
     },
     "execution_count": 17,
     "metadata": {},
     "output_type": "execute_result"
    }
   ],
   "execution_count": 17
  },
  {
   "metadata": {},
   "cell_type": "markdown",
   "source": "### 与其他张量的操作",
   "id": "62e8c28f98d5cad5"
  },
  {
   "metadata": {
    "ExecuteTime": {
     "end_time": "2025-08-18T11:46:55.202183Z",
     "start_time": "2025-08-18T11:46:55.194561Z"
    }
   },
   "cell_type": "code",
   "source": [
    "# 矩阵乘法\n",
    "tensor2 = torch.rand(3,2)\n",
    "tensor3 = tensor @ tensor2\n",
    "tensor3"
   ],
   "id": "78ec059ad437a5e2",
   "outputs": [
    {
     "data": {
      "text/plain": [
       "tensor([[3.6430, 3.8825],\n",
       "        [9.3357, 9.7184]])"
      ]
     },
     "execution_count": 19,
     "metadata": {},
     "output_type": "execute_result"
    }
   ],
   "execution_count": 19
  },
  {
   "metadata": {
    "ExecuteTime": {
     "end_time": "2025-08-18T11:47:42.910323Z",
     "start_time": "2025-08-18T11:47:42.897154Z"
    }
   },
   "cell_type": "code",
   "source": [
    "# 张量矩阵乘法\n",
    "tensor3 = torch.matmul(tensor, tensor2)\n",
    "tensor3"
   ],
   "id": "b34bbe24116ea46e",
   "outputs": [
    {
     "data": {
      "text/plain": [
       "tensor([[3.6430, 3.8825],\n",
       "        [9.3357, 9.7184]])"
      ]
     },
     "execution_count": 20,
     "metadata": {},
     "output_type": "execute_result"
    }
   ],
   "execution_count": 20
  },
  {
   "metadata": {},
   "cell_type": "markdown",
   "source": "### 条件判断和筛选",
   "id": "b723f0f02436858f"
  },
  {
   "metadata": {
    "ExecuteTime": {
     "end_time": "2025-08-18T11:50:00.909096Z",
     "start_time": "2025-08-18T11:50:00.900640Z"
    }
   },
   "cell_type": "code",
   "source": [
    "#  创建一个布尔掩码\n",
    "mask = tensor > 3\n",
    "mask"
   ],
   "id": "423748732b14b493",
   "outputs": [
    {
     "data": {
      "text/plain": [
       "tensor([[False, False, False],\n",
       "        [ True,  True,  True]])"
      ]
     },
     "execution_count": 21,
     "metadata": {},
     "output_type": "execute_result"
    }
   ],
   "execution_count": 21
  },
  {
   "metadata": {
    "ExecuteTime": {
     "end_time": "2025-08-18T11:50:42.521271Z",
     "start_time": "2025-08-18T11:50:42.517016Z"
    }
   },
   "cell_type": "code",
   "source": [
    "# 筛选出符合条件的元素\n",
    "filtered_tensor = tensor[tensor > 3]\n",
    "filtered_tensor"
   ],
   "id": "bd1102ea59c27407",
   "outputs": [
    {
     "data": {
      "text/plain": [
       "tensor([4., 5., 6.])"
      ]
     },
     "execution_count": 23,
     "metadata": {},
     "output_type": "execute_result"
    }
   ],
   "execution_count": 23
  },
  {
   "metadata": {
    "ExecuteTime": {
     "end_time": "2025-08-18T11:51:30.675307Z",
     "start_time": "2025-08-18T11:51:30.668662Z"
    }
   },
   "cell_type": "code",
   "source": [
    "# 将张量转移到 GPU\n",
    "device = torch.device('cuda' if torch.cuda.is_available() else 'cpu')\n",
    "x = torch.tensor([1.0, 2.0, 3.0], device=device)\n",
    "# 检验是否用带 cpu\n",
    "torch.cuda.is_available()  # 返回 True 或 False"
   ],
   "id": "8b5a3e60c0881457",
   "outputs": [
    {
     "data": {
      "text/plain": [
       "False"
      ]
     },
     "execution_count": 26,
     "metadata": {},
     "output_type": "execute_result"
    }
   ],
   "execution_count": 26
  },
  {
   "metadata": {},
   "cell_type": "markdown",
   "source": "### 张量与 numpy 相互操作",
   "id": "714a67fc6753102f"
  },
  {
   "metadata": {
    "ExecuteTime": {
     "end_time": "2025-08-18T11:53:54.859526Z",
     "start_time": "2025-08-18T11:53:54.850961Z"
    }
   },
   "cell_type": "code",
   "source": [
    "import numpy as np\n",
    "\n",
    "# NumPy 数组转换为 PyTorch 张量\n",
    "numpy_array = np.array([[1, 2, 3], [4, 5, 6]])\n",
    "numpy_array"
   ],
   "id": "e0e085408ba750a9",
   "outputs": [
    {
     "data": {
      "text/plain": [
       "array([[1, 2, 3],\n",
       "       [4, 5, 6]])"
      ]
     },
     "execution_count": 27,
     "metadata": {},
     "output_type": "execute_result"
    }
   ],
   "execution_count": 27
  },
  {
   "metadata": {
    "ExecuteTime": {
     "end_time": "2025-08-18T11:54:34.576023Z",
     "start_time": "2025-08-18T11:54:34.564370Z"
    }
   },
   "cell_type": "code",
   "source": [
    "tensor_from_numpy = torch.tensor(numpy_array, device=device)\n",
    "tensor_from_numpy"
   ],
   "id": "2185bade96637181",
   "outputs": [
    {
     "data": {
      "text/plain": [
       "tensor([[1, 2, 3],\n",
       "        [4, 5, 6]])"
      ]
     },
     "execution_count": 28,
     "metadata": {},
     "output_type": "execute_result"
    }
   ],
   "execution_count": 28
  },
  {
   "metadata": {
    "ExecuteTime": {
     "end_time": "2025-08-18T11:55:19.912205Z",
     "start_time": "2025-08-18T11:55:19.902571Z"
    }
   },
   "cell_type": "code",
   "source": [
    "# 修改 NumPy 数组，观察张量的变化（共享内存）\n",
    "numpy_array[0, 0] = 100\n",
    "numpy_array"
   ],
   "id": "b01b3f3231825df8",
   "outputs": [
    {
     "data": {
      "text/plain": [
       "array([[100,   2,   3],\n",
       "       [  4,   5,   6]])"
      ]
     },
     "execution_count": 29,
     "metadata": {},
     "output_type": "execute_result"
    }
   ],
   "execution_count": 29
  },
  {
   "metadata": {
    "ExecuteTime": {
     "end_time": "2025-08-18T11:55:30.550673Z",
     "start_time": "2025-08-18T11:55:30.546822Z"
    }
   },
   "cell_type": "code",
   "source": "tensor",
   "id": "b0c4d97618ea51d2",
   "outputs": [
    {
     "data": {
      "text/plain": [
       "tensor([[1., 2., 3.],\n",
       "        [4., 5., 6.]])"
      ]
     },
     "execution_count": 30,
     "metadata": {},
     "output_type": "execute_result"
    }
   ],
   "execution_count": 30
  },
  {
   "metadata": {
    "ExecuteTime": {
     "end_time": "2025-08-18T11:58:00.782589Z",
     "start_time": "2025-08-18T11:58:00.777617Z"
    }
   },
   "cell_type": "code",
   "source": [
    "# PyTorch 张量转换为 NumPy 数组\n",
    "tensor3 = torch.tensor([[7, 8, 9], [10, 11, 12]], dtype=torch.float32)\n",
    "tensor3"
   ],
   "id": "634a7ba9a31a8637",
   "outputs": [
    {
     "data": {
      "text/plain": [
       "tensor([[ 7.,  8.,  9.],\n",
       "        [10., 11., 12.]])"
      ]
     },
     "execution_count": 34,
     "metadata": {},
     "output_type": "execute_result"
    }
   ],
   "execution_count": 34
  },
  {
   "metadata": {
    "ExecuteTime": {
     "end_time": "2025-08-18T11:58:15.951600Z",
     "start_time": "2025-08-18T11:58:15.947235Z"
    }
   },
   "cell_type": "code",
   "source": [
    "numpy_from_tensor = tensor3.numpy()\n",
    "numpy_from_tensor"
   ],
   "id": "9ba4368a7ea22726",
   "outputs": [
    {
     "data": {
      "text/plain": [
       "array([[ 7.,  8.,  9.],\n",
       "       [10., 11., 12.]], dtype=float32)"
      ]
     },
     "execution_count": 36,
     "metadata": {},
     "output_type": "execute_result"
    }
   ],
   "execution_count": 36
  },
  {
   "metadata": {
    "ExecuteTime": {
     "end_time": "2025-08-18T11:58:53.213231Z",
     "start_time": "2025-08-18T11:58:53.210678Z"
    }
   },
   "cell_type": "code",
   "source": [
    "# 修改张量，观察 NumPy 数组的变化（共享内存）\n",
    "tensor3[0, 0] = 77\n",
    "tensor3"
   ],
   "id": "2edf2cd13a234c28",
   "outputs": [
    {
     "name": "stdout",
     "output_type": "stream",
     "text": [
      "[[77.  8.  9.]\n",
      " [10. 11. 12.]]\n"
     ]
    }
   ],
   "execution_count": 37
  },
  {
   "metadata": {
    "ExecuteTime": {
     "end_time": "2025-08-18T11:59:09.399669Z",
     "start_time": "2025-08-18T11:59:09.391918Z"
    }
   },
   "cell_type": "code",
   "source": "numpy_from_tensor",
   "id": "b90d29c6b16051bb",
   "outputs": [
    {
     "data": {
      "text/plain": [
       "array([[77.,  8.,  9.],\n",
       "       [10., 11., 12.]], dtype=float32)"
      ]
     },
     "execution_count": 38,
     "metadata": {},
     "output_type": "execute_result"
    }
   ],
   "execution_count": 38
  },
  {
   "metadata": {
    "ExecuteTime": {
     "end_time": "2025-08-18T11:59:54.288941Z",
     "start_time": "2025-08-18T11:59:54.283574Z"
    }
   },
   "cell_type": "code",
   "source": [
    "# 不共享内存的情况（需要复制数据）\n",
    "tensor_independent = torch.tensor([[13, 14, 15], [16, 17, 18]], dtype=torch.float32)\n",
    "numpy_independent = tensor_independent.clone().numpy()\n",
    "numpy_independent"
   ],
   "id": "7d02c455d539e588",
   "outputs": [
    {
     "data": {
      "text/plain": [
       "array([[13., 14., 15.],\n",
       "       [16., 17., 18.]], dtype=float32)"
      ]
     },
     "execution_count": 40,
     "metadata": {},
     "output_type": "execute_result"
    }
   ],
   "execution_count": 40
  },
  {
   "metadata": {
    "ExecuteTime": {
     "end_time": "2025-08-18T12:00:15.365012Z",
     "start_time": "2025-08-18T12:00:15.355181Z"
    }
   },
   "cell_type": "code",
   "source": [
    "tensor_independent[0, 0] = 0\n",
    "tensor_independent"
   ],
   "id": "ed93544615cb1f62",
   "outputs": [
    {
     "data": {
      "text/plain": [
       "tensor([[ 0., 14., 15.],\n",
       "        [16., 17., 18.]])"
      ]
     },
     "execution_count": 42,
     "metadata": {},
     "output_type": "execute_result"
    }
   ],
   "execution_count": 42
  },
  {
   "metadata": {
    "ExecuteTime": {
     "end_time": "2025-08-18T12:00:30.395412Z",
     "start_time": "2025-08-18T12:00:30.392508Z"
    }
   },
   "cell_type": "code",
   "source": "numpy_independent",
   "id": "2018fe55ccada4e1",
   "outputs": [
    {
     "data": {
      "text/plain": [
       "array([[13., 14., 15.],\n",
       "       [16., 17., 18.]], dtype=float32)"
      ]
     },
     "execution_count": 43,
     "metadata": {},
     "output_type": "execute_result"
    }
   ],
   "execution_count": 43
  }
 ],
 "metadata": {
  "kernelspec": {
   "display_name": "Python 3",
   "language": "python",
   "name": "python3"
  },
  "language_info": {
   "codemirror_mode": {
    "name": "ipython",
    "version": 2
   },
   "file_extension": ".py",
   "mimetype": "text/x-python",
   "name": "python",
   "nbconvert_exporter": "python",
   "pygments_lexer": "ipython2",
   "version": "2.7.6"
  }
 },
 "nbformat": 4,
 "nbformat_minor": 5
}
