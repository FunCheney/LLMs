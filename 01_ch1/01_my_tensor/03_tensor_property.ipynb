{
 "cells": [
  {
   "cell_type": "code",
   "id": "initial_id",
   "metadata": {
    "collapsed": true,
    "ExecuteTime": {
     "end_time": "2025-08-18T11:19:48.689857Z",
     "start_time": "2025-08-18T11:19:48.672582Z"
    }
   },
   "source": [
    "import torch\n",
    "\n",
    "tensor = torch.tensor([[1,2,3], [4,5,6], [7,8,9]], dtype=torch.float)\n",
    "tensor"
   ],
   "outputs": [
    {
     "data": {
      "text/plain": [
       "tensor([[1., 2., 3.],\n",
       "        [4., 5., 6.],\n",
       "        [7., 8., 9.]])"
      ]
     },
     "execution_count": 3,
     "metadata": {},
     "output_type": "execute_result"
    }
   ],
   "execution_count": 3
  },
  {
   "metadata": {
    "ExecuteTime": {
     "end_time": "2025-08-18T11:22:07.362196Z",
     "start_time": "2025-08-18T11:22:07.359749Z"
    }
   },
   "cell_type": "code",
   "source": [
    "# 获取形状\n",
    "tensor.shape"
   ],
   "id": "b1e15794eac5b6df",
   "outputs": [
    {
     "data": {
      "text/plain": [
       "torch.Size([3, 3])"
      ]
     },
     "execution_count": 9,
     "metadata": {},
     "output_type": "execute_result"
    }
   ],
   "execution_count": 9
  },
  {
   "metadata": {
    "ExecuteTime": {
     "end_time": "2025-08-18T11:22:05.415947Z",
     "start_time": "2025-08-18T11:22:05.413582Z"
    }
   },
   "cell_type": "code",
   "source": [
    "# 获取形状（另一种方法）\n",
    "tensor.size()"
   ],
   "id": "ada5a79e33e886b7",
   "outputs": [
    {
     "data": {
      "text/plain": [
       "torch.Size([3, 3])"
      ]
     },
     "execution_count": 8,
     "metadata": {},
     "output_type": "execute_result"
    }
   ],
   "execution_count": 8
  },
  {
   "metadata": {
    "ExecuteTime": {
     "end_time": "2025-08-18T11:22:03.683829Z",
     "start_time": "2025-08-18T11:22:03.680147Z"
    }
   },
   "cell_type": "code",
   "source": [
    "# 数据的设备类\n",
    "tensor.device"
   ],
   "id": "272130859145bb24",
   "outputs": [
    {
     "data": {
      "text/plain": [
       "device(type='cpu')"
      ]
     },
     "execution_count": 7,
     "metadata": {},
     "output_type": "execute_result"
    }
   ],
   "execution_count": 7
  },
  {
   "metadata": {
    "ExecuteTime": {
     "end_time": "2025-08-18T11:22:02.137396Z",
     "start_time": "2025-08-18T11:22:02.130420Z"
    }
   },
   "cell_type": "code",
   "source": [
    "# 数据类型\n",
    "tensor.dtype"
   ],
   "id": "641219dd6000929",
   "outputs": [
    {
     "data": {
      "text/plain": [
       "torch.float32"
      ]
     },
     "execution_count": 6,
     "metadata": {},
     "output_type": "execute_result"
    }
   ],
   "execution_count": 6
  },
  {
   "metadata": {
    "ExecuteTime": {
     "end_time": "2025-08-18T11:22:34.592684Z",
     "start_time": "2025-08-18T11:22:34.586419Z"
    }
   },
   "cell_type": "code",
   "source": [
    "# 维度数\n",
    "tensor.dim()"
   ],
   "id": "20ec111ecc056c0c",
   "outputs": [
    {
     "data": {
      "text/plain": [
       "2"
      ]
     },
     "execution_count": 10,
     "metadata": {},
     "output_type": "execute_result"
    }
   ],
   "execution_count": 10
  },
  {
   "metadata": {
    "ExecuteTime": {
     "end_time": "2025-08-18T11:23:21.720002Z",
     "start_time": "2025-08-18T11:23:21.712650Z"
    }
   },
   "cell_type": "code",
   "source": [
    "# 元素个数\n",
    "tensor.numel()"
   ],
   "id": "3d16dad016df5b34",
   "outputs": [
    {
     "data": {
      "text/plain": [
       "9"
      ]
     },
     "execution_count": 11,
     "metadata": {},
     "output_type": "execute_result"
    }
   ],
   "execution_count": 11
  },
  {
   "metadata": {
    "ExecuteTime": {
     "end_time": "2025-08-18T11:24:39.372628Z",
     "start_time": "2025-08-18T11:24:39.364687Z"
    }
   },
   "cell_type": "code",
   "source": [
    "# 是否启用梯度\n",
    "tensor.requires_grad"
   ],
   "id": "ad71246b3815efc5",
   "outputs": [
    {
     "data": {
      "text/plain": [
       "False"
      ]
     },
     "execution_count": 12,
     "metadata": {},
     "output_type": "execute_result"
    }
   ],
   "execution_count": 12
  },
  {
   "metadata": {
    "ExecuteTime": {
     "end_time": "2025-08-18T11:25:04.270321Z",
     "start_time": "2025-08-18T11:25:04.267183Z"
    }
   },
   "cell_type": "code",
   "source": [
    "# 是否在 GPU 上\n",
    "tensor.is_cuda"
   ],
   "id": "2d7d6668e802997d",
   "outputs": [
    {
     "data": {
      "text/plain": [
       "False"
      ]
     },
     "execution_count": 13,
     "metadata": {},
     "output_type": "execute_result"
    }
   ],
   "execution_count": 13
  },
  {
   "metadata": {
    "ExecuteTime": {
     "end_time": "2025-08-18T11:25:24.134981Z",
     "start_time": "2025-08-18T11:25:24.122679Z"
    }
   },
   "cell_type": "code",
   "source": [
    "# 是否连续存储\n",
    "tensor.is_contiguous()"
   ],
   "id": "5a1e507288d0ff0b",
   "outputs": [
    {
     "data": {
      "text/plain": [
       "True"
      ]
     },
     "execution_count": 14,
     "metadata": {},
     "output_type": "execute_result"
    }
   ],
   "execution_count": 14
  },
  {
   "metadata": {
    "ExecuteTime": {
     "end_time": "2025-08-18T11:27:02.725313Z",
     "start_time": "2025-08-18T11:27:02.722263Z"
    }
   },
   "cell_type": "code",
   "source": [
    "# 获取单元素值\n",
    "single_value = torch.tensor(42)\n",
    "print(\"Single Element Value:\", single_value.item())"
   ],
   "id": "34a93cfdee280d17",
   "outputs": [
    {
     "name": "stdout",
     "output_type": "stream",
     "text": [
      "Single Element Value: 42\n"
     ]
    }
   ],
   "execution_count": 16
  },
  {
   "metadata": {
    "ExecuteTime": {
     "end_time": "2025-08-18T11:27:27.678020Z",
     "start_time": "2025-08-18T11:27:27.666494Z"
    }
   },
   "cell_type": "code",
   "source": [
    "# 转置张量\n",
    "tensor_T = tensor.T\n",
    "tensor_T"
   ],
   "id": "4a28b72f11bc2eae",
   "outputs": [
    {
     "data": {
      "text/plain": [
       "tensor([[1., 4., 7.],\n",
       "        [2., 5., 8.],\n",
       "        [3., 6., 9.]])"
      ]
     },
     "execution_count": 17,
     "metadata": {},
     "output_type": "execute_result"
    }
   ],
   "execution_count": 17
  }
 ],
 "metadata": {
  "kernelspec": {
   "display_name": "Python 3",
   "language": "python",
   "name": "python3"
  },
  "language_info": {
   "codemirror_mode": {
    "name": "ipython",
    "version": 2
   },
   "file_extension": ".py",
   "mimetype": "text/x-python",
   "name": "python",
   "nbconvert_exporter": "python",
   "pygments_lexer": "ipython2",
   "version": "2.7.6"
  }
 },
 "nbformat": 4,
 "nbformat_minor": 5
}
