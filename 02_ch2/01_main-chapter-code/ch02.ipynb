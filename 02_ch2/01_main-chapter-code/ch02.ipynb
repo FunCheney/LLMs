{
 "cells": [
  {
   "metadata": {
    "ExecuteTime": {
     "end_time": "2025-08-16T10:34:24.863333Z",
     "start_time": "2025-08-16T10:34:19.942469Z"
    }
   },
   "cell_type": "code",
   "source": "!pip install tiktoken",
   "id": "3e35277239a6de99",
   "outputs": [
    {
     "name": "stdout",
     "output_type": "stream",
     "text": [
      "Collecting tiktoken\r\n",
      "  Downloading tiktoken-0.11.0-cp312-cp312-macosx_11_0_arm64.whl.metadata (6.7 kB)\r\n",
      "Requirement already satisfied: regex>=2022.1.18 in /opt/anaconda3/lib/python3.12/site-packages (from tiktoken) (2024.9.11)\r\n",
      "Requirement already satisfied: requests>=2.26.0 in /opt/anaconda3/lib/python3.12/site-packages (from tiktoken) (2.32.3)\r\n",
      "Requirement already satisfied: charset-normalizer<4,>=2 in /opt/anaconda3/lib/python3.12/site-packages (from requests>=2.26.0->tiktoken) (3.3.2)\r\n",
      "Requirement already satisfied: idna<4,>=2.5 in /opt/anaconda3/lib/python3.12/site-packages (from requests>=2.26.0->tiktoken) (3.7)\r\n",
      "Requirement already satisfied: urllib3<3,>=1.21.1 in /opt/anaconda3/lib/python3.12/site-packages (from requests>=2.26.0->tiktoken) (2.2.3)\r\n",
      "Requirement already satisfied: certifi>=2017.4.17 in /opt/anaconda3/lib/python3.12/site-packages (from requests>=2.26.0->tiktoken) (2025.1.31)\r\n",
      "Downloading tiktoken-0.11.0-cp312-cp312-macosx_11_0_arm64.whl (996 kB)\r\n",
      "\u001B[2K   \u001B[90m━━━━━━━━━━━━━━━━━━━━━━━━━━━━━━━━━━━━━━━━\u001B[0m \u001B[32m996.7/996.7 kB\u001B[0m \u001B[31m2.5 MB/s\u001B[0m eta \u001B[36m0:00:00\u001B[0ma \u001B[36m0:00:01\u001B[0m\r\n",
      "\u001B[?25hInstalling collected packages: tiktoken\r\n",
      "Successfully installed tiktoken-0.11.0\r\n"
     ]
    }
   ],
   "execution_count": 2
  },
  {
   "metadata": {},
   "cell_type": "code",
   "outputs": [],
   "execution_count": null,
   "source": [
    "from importlib.metadata import version\n",
    "\n",
    "print(\"torch version:\", version(\"torch\"))\n",
    "print(\"tiktoken version:\", version(\"tiktoken\"))"
   ],
   "id": "a341a4e7c1506c69"
  },
  {
   "metadata": {},
   "cell_type": "markdown",
   "source": [
    "### 数据准备\n",
    "下载数据"
   ],
   "id": "72ddd565b10e9c5c"
  },
  {
   "metadata": {},
   "cell_type": "code",
   "outputs": [],
   "execution_count": null,
   "source": [
    "import os\n",
    "import urllib.request\n",
    "\n",
    "if not os.path.exists(\"the-verdict.txt\"):\n",
    "    url = (\"https://raw.githubusercontent.com/rasbt/\"\n",
    "           \"LLMs-from-scratch/main/ch02/01_main-chapter-code/\"\n",
    "           \"the-verdict.txt\")\n",
    "    file_path = \"the-verdict.txt\"\n",
    "    urllib.request.urlretrieve(url, file_path)"
   ],
   "id": "6db9fa7f89811c63"
  },
  {
   "metadata": {
    "ExecuteTime": {
     "end_time": "2025-08-17T02:08:05.199426Z",
     "start_time": "2025-08-17T02:08:05.196026Z"
    }
   },
   "cell_type": "code",
   "source": [
    "with open(\"the-verdict.txt\", \"r\", encoding=\"utf-8\") as f:\n",
    "    raw_text = f.read()\n",
    "\n",
    "print(\"Total number of character:\", len(raw_text))\n",
    "print(raw_text[:99])"
   ],
   "id": "8787cd5967942f74",
   "outputs": [
    {
     "name": "stdout",
     "output_type": "stream",
     "text": [
      "Total number of character: 20479\n",
      "I HAD always thought Jack Gisburn rather a cheap genius--though a good fellow enough--so it was no \n"
     ]
    }
   ],
   "execution_count": 2
  },
  {
   "metadata": {},
   "cell_type": "markdown",
   "source": [
    "#### 分词\n",
    "1. 首先利用 python 的 re 库做一个简单的"
   ],
   "id": "d9a4ca4d46b4f8b"
  },
  {
   "metadata": {
    "ExecuteTime": {
     "end_time": "2025-08-22T00:10:31.111543Z",
     "start_time": "2025-08-22T00:10:31.108504Z"
    }
   },
   "cell_type": "code",
   "source": [
    "import re\n",
    "\n",
    "text = \"Hello, world. This, is a test.\"\n",
    "result = re.split(r'(\\s)', text)\n",
    "\n",
    "print(result)"
   ],
   "id": "4d23f469e47da38d",
   "outputs": [
    {
     "name": "stdout",
     "output_type": "stream",
     "text": [
      "['Hello,', ' ', 'world.', ' ', 'This,', ' ', 'is', ' ', 'a', ' ', 'test.']\n"
     ]
    }
   ],
   "execution_count": 55
  },
  {
   "metadata": {
    "ExecuteTime": {
     "end_time": "2025-08-17T14:28:01.900156Z",
     "start_time": "2025-08-17T14:28:01.896545Z"
    }
   },
   "cell_type": "code",
   "source": [
    "result = re.split(r'([,.]|\\s)', text)\n",
    "\n",
    "print(result)"
   ],
   "id": "2084fdd4c66ba520",
   "outputs": [
    {
     "name": "stdout",
     "output_type": "stream",
     "text": [
      "['Hello', ',', '', ' ', 'world', '.', '', ' ', 'This', ',', '', ' ', 'is', ' ', 'a', ' ', 'test', '.', '']\n"
     ]
    }
   ],
   "execution_count": 4
  },
  {
   "metadata": {
    "ExecuteTime": {
     "end_time": "2025-08-17T14:28:28.001504Z",
     "start_time": "2025-08-17T14:28:27.999279Z"
    }
   },
   "cell_type": "code",
   "source": [
    "# Strip whitespace from each item and then filter out any empty strings.\n",
    "result = [item for item in result if item.strip()]\n",
    "print(result)"
   ],
   "id": "27759223131a284a",
   "outputs": [
    {
     "name": "stdout",
     "output_type": "stream",
     "text": [
      "['Hello', ',', 'world', '.', 'This', ',', 'is', 'a', 'test', '.']\n"
     ]
    }
   ],
   "execution_count": 5
  },
  {
   "metadata": {
    "ExecuteTime": {
     "end_time": "2025-08-17T14:28:49.081590Z",
     "start_time": "2025-08-17T14:28:49.079014Z"
    }
   },
   "cell_type": "code",
   "source": [
    "text = \"Hello, world. Is this-- a test?\"\n",
    "\n",
    "result = re.split(r'([,.:;?_!\"()\\']|--|\\s)', text)\n",
    "result = [item.strip() for item in result if item.strip()]\n",
    "print(result)"
   ],
   "id": "509ed9010c371581",
   "outputs": [
    {
     "name": "stdout",
     "output_type": "stream",
     "text": [
      "['Hello', ',', 'world', '.', 'Is', 'this', '--', 'a', 'test', '?']\n"
     ]
    }
   ],
   "execution_count": 6
  },
  {
   "metadata": {
    "ExecuteTime": {
     "end_time": "2025-08-22T00:26:58.607138Z",
     "start_time": "2025-08-22T00:26:58.602902Z"
    }
   },
   "cell_type": "code",
   "source": [
    "preprocessed = re.split(r'([,.:;?_!\"()\\']|--|\\s)', raw_text)\n",
    "preprocessed = [item.strip() for item in preprocessed if item.strip()]\n",
    "print(preprocessed[:30])"
   ],
   "id": "fca71fbd00421e2a",
   "outputs": [
    {
     "name": "stdout",
     "output_type": "stream",
     "text": [
      "['I', 'HAD', 'always', 'thought', 'Jack', 'Gisburn', 'rather', 'a', 'cheap', 'genius', '--', 'though', 'a', 'good', 'fellow', 'enough', '--', 'so', 'it', 'was', 'no', 'great', 'surprise', 'to', 'me', 'to', 'hear', 'that', ',', 'in']\n"
     ]
    }
   ],
   "execution_count": 56
  },
  {
   "metadata": {
    "ExecuteTime": {
     "end_time": "2025-08-17T14:29:27.931246Z",
     "start_time": "2025-08-17T14:29:27.928599Z"
    }
   },
   "cell_type": "code",
   "source": "print(len(preprocessed))",
   "id": "35571ed090e649b9",
   "outputs": [
    {
     "name": "stdout",
     "output_type": "stream",
     "text": [
      "4690\n"
     ]
    }
   ],
   "execution_count": 8
  },
  {
   "metadata": {},
   "cell_type": "markdown",
   "source": "### Converting tokens into token IDs",
   "id": "e268b009a8a41167"
  },
  {
   "metadata": {
    "ExecuteTime": {
     "end_time": "2025-08-17T14:30:07.022897Z",
     "start_time": "2025-08-17T14:30:07.020094Z"
    }
   },
   "cell_type": "code",
   "source": [
    "all_words = sorted(set(preprocessed))\n",
    "vocab_size = len(all_words)\n",
    "\n",
    "print(vocab_size)"
   ],
   "id": "44f11a16fdbb90cd",
   "outputs": [
    {
     "name": "stdout",
     "output_type": "stream",
     "text": [
      "1130\n"
     ]
    }
   ],
   "execution_count": 9
  },
  {
   "metadata": {
    "ExecuteTime": {
     "end_time": "2025-08-17T14:30:17.956025Z",
     "start_time": "2025-08-17T14:30:17.953515Z"
    }
   },
   "cell_type": "code",
   "source": [
    "# 它会遍历所有的单词，升序分配这些整数标签\n",
    "vocab = {token:integer for integer,token in enumerate(all_words)}"
   ],
   "id": "be47784ee9d81993",
   "outputs": [],
   "execution_count": 10
  },
  {
   "metadata": {
    "ExecuteTime": {
     "end_time": "2025-08-17T14:30:33.072419Z",
     "start_time": "2025-08-17T14:30:33.069548Z"
    }
   },
   "cell_type": "code",
   "source": [
    "for i, item in enumerate(vocab.items()):\n",
    "    print(item)\n",
    "    if i >= 50:\n",
    "        break"
   ],
   "id": "49db9fd3e5b23aa0",
   "outputs": [
    {
     "name": "stdout",
     "output_type": "stream",
     "text": [
      "('!', 0)\n",
      "('\"', 1)\n",
      "(\"'\", 2)\n",
      "('(', 3)\n",
      "(')', 4)\n",
      "(',', 5)\n",
      "('--', 6)\n",
      "('.', 7)\n",
      "(':', 8)\n",
      "(';', 9)\n",
      "('?', 10)\n",
      "('A', 11)\n",
      "('Ah', 12)\n",
      "('Among', 13)\n",
      "('And', 14)\n",
      "('Are', 15)\n",
      "('Arrt', 16)\n",
      "('As', 17)\n",
      "('At', 18)\n",
      "('Be', 19)\n",
      "('Begin', 20)\n",
      "('Burlington', 21)\n",
      "('But', 22)\n",
      "('By', 23)\n",
      "('Carlo', 24)\n",
      "('Chicago', 25)\n",
      "('Claude', 26)\n",
      "('Come', 27)\n",
      "('Croft', 28)\n",
      "('Destroyed', 29)\n",
      "('Devonshire', 30)\n",
      "('Don', 31)\n",
      "('Dubarry', 32)\n",
      "('Emperors', 33)\n",
      "('Florence', 34)\n",
      "('For', 35)\n",
      "('Gallery', 36)\n",
      "('Gideon', 37)\n",
      "('Gisburn', 38)\n",
      "('Gisburns', 39)\n",
      "('Grafton', 40)\n",
      "('Greek', 41)\n",
      "('Grindle', 42)\n",
      "('Grindles', 43)\n",
      "('HAD', 44)\n",
      "('Had', 45)\n",
      "('Hang', 46)\n",
      "('Has', 47)\n",
      "('He', 48)\n",
      "('Her', 49)\n",
      "('Hermia', 50)\n"
     ]
    }
   ],
   "execution_count": 11
  },
  {
   "metadata": {
    "ExecuteTime": {
     "end_time": "2025-08-17T14:31:16.666788Z",
     "start_time": "2025-08-17T14:31:16.662422Z"
    }
   },
   "cell_type": "code",
   "source": [
    "class SimpleTokenizerV1:\n",
    "    def __init__(self, vocab):\n",
    "        # 词表映射\n",
    "        self.str_to_int = vocab\n",
    "        # 整数到字符串的映射\n",
    "        self.int_to_str = {i:s for s,i in vocab.items()}\n",
    "\n",
    "    def encode(self, text):\n",
    "        preprocessed = re.split(r'([,.:;?_!\"()\\']|--|\\s)', text)\n",
    "\n",
    "        preprocessed = [\n",
    "            item.strip() for item in preprocessed if item.strip()\n",
    "        ]\n",
    "        ids = [self.str_to_int[s] for s in preprocessed]\n",
    "        return ids\n",
    "\n",
    "    def decode(self, ids):\n",
    "        text = \" \".join([self.int_to_str[i] for i in ids])\n",
    "        # Replace spaces before the specified punctuations\n",
    "        text = re.sub(r'\\s+([,.?!\"()\\'])', r'\\1', text)\n",
    "        return text"
   ],
   "id": "379c3fee7374997e",
   "outputs": [],
   "execution_count": 14
  },
  {
   "metadata": {
    "ExecuteTime": {
     "end_time": "2025-08-22T15:36:58.933277Z",
     "start_time": "2025-08-22T15:36:58.930752Z"
    }
   },
   "cell_type": "code",
   "source": [
    "tokenizer = SimpleTokenizerV1(vocab)\n",
    "\n",
    "text = \"\"\"\"It's the last he painted, you know,\"\n",
    "           Mrs. Gisburn said with pardonable pride.\"\"\"\n",
    "ids = tokenizer.encode(text)\n",
    "print(ids)"
   ],
   "id": "302697eeffd10e44",
   "outputs": [
    {
     "name": "stdout",
     "output_type": "stream",
     "text": [
      "[1, 56, 2, 850, 988, 602, 533, 746, 5, 1126, 596, 5, 1, 67, 7, 38, 851, 1108, 754, 793, 7]\n"
     ]
    }
   ],
   "execution_count": 63
  },
  {
   "metadata": {
    "ExecuteTime": {
     "end_time": "2025-08-22T15:42:25.643188Z",
     "start_time": "2025-08-22T15:42:25.640246Z"
    }
   },
   "cell_type": "code",
   "source": "tokenizer.decode(ids)",
   "id": "e899b6fc3a9eb61f",
   "outputs": [
    {
     "data": {
      "text/plain": [
       "'\" It\\' s the last he painted, you know,\" Mrs. Gisburn said with pardonable pride.'"
      ]
     },
     "execution_count": 65,
     "metadata": {},
     "output_type": "execute_result"
    }
   ],
   "execution_count": 65
  },
  {
   "metadata": {
    "ExecuteTime": {
     "end_time": "2025-08-22T15:42:29.587901Z",
     "start_time": "2025-08-22T15:42:29.584837Z"
    }
   },
   "cell_type": "code",
   "source": "tokenizer.decode(tokenizer.encode(text))",
   "id": "5816f998392fd63b",
   "outputs": [
    {
     "data": {
      "text/plain": [
       "'\" It\\' s the last he painted, you know,\" Mrs. Gisburn said with pardonable pride.'"
      ]
     },
     "execution_count": 66,
     "metadata": {},
     "output_type": "execute_result"
    }
   ],
   "execution_count": 66
  },
  {
   "metadata": {},
   "cell_type": "markdown",
   "source": "### 添加特殊内容 token",
   "id": "b79936329f7aa2ef"
  },
  {
   "metadata": {
    "ExecuteTime": {
     "end_time": "2025-08-24T08:39:11.544195Z",
     "start_time": "2025-08-24T08:39:11.530743Z"
    }
   },
   "cell_type": "code",
   "source": [
    "tokenizer = SimpleTokenizerV1(vocab)\n",
    "\n",
    "text = \"Hello, do you like tea. Is this-- a test?\"\n",
    "\n",
    "tokenizer.encode(text)"
   ],
   "id": "d597d928ac6a85e",
   "outputs": [
    {
     "ename": "KeyError",
     "evalue": "'Is'",
     "output_type": "error",
     "traceback": [
      "\u001B[0;31m---------------------------------------------------------------------------\u001B[0m",
      "\u001B[0;31mKeyError\u001B[0m                                  Traceback (most recent call last)",
      "Cell \u001B[0;32mIn[72], line 5\u001B[0m\n\u001B[1;32m      1\u001B[0m tokenizer \u001B[38;5;241m=\u001B[39m SimpleTokenizerV1(vocab)\n\u001B[1;32m      3\u001B[0m text \u001B[38;5;241m=\u001B[39m \u001B[38;5;124m\"\u001B[39m\u001B[38;5;124mHello, do you like tea. Is this-- a test?\u001B[39m\u001B[38;5;124m\"\u001B[39m\n\u001B[0;32m----> 5\u001B[0m tokenizer\u001B[38;5;241m.\u001B[39mencode(text)\n",
      "Cell \u001B[0;32mIn[14], line 12\u001B[0m, in \u001B[0;36mSimpleTokenizerV1.encode\u001B[0;34m(self, text)\u001B[0m\n\u001B[1;32m      7\u001B[0m preprocessed \u001B[38;5;241m=\u001B[39m re\u001B[38;5;241m.\u001B[39msplit(\u001B[38;5;124mr\u001B[39m\u001B[38;5;124m'\u001B[39m\u001B[38;5;124m([,.:;?_!\u001B[39m\u001B[38;5;124m\"\u001B[39m\u001B[38;5;124m()\u001B[39m\u001B[38;5;130;01m\\'\u001B[39;00m\u001B[38;5;124m]|--|\u001B[39m\u001B[38;5;124m\\\u001B[39m\u001B[38;5;124ms)\u001B[39m\u001B[38;5;124m'\u001B[39m, text)\n\u001B[1;32m      9\u001B[0m preprocessed \u001B[38;5;241m=\u001B[39m [\n\u001B[1;32m     10\u001B[0m     item\u001B[38;5;241m.\u001B[39mstrip() \u001B[38;5;28;01mfor\u001B[39;00m item \u001B[38;5;129;01min\u001B[39;00m preprocessed \u001B[38;5;28;01mif\u001B[39;00m item\u001B[38;5;241m.\u001B[39mstrip()\n\u001B[1;32m     11\u001B[0m ]\n\u001B[0;32m---> 12\u001B[0m ids \u001B[38;5;241m=\u001B[39m [\u001B[38;5;28mself\u001B[39m\u001B[38;5;241m.\u001B[39mstr_to_int[s] \u001B[38;5;28;01mfor\u001B[39;00m s \u001B[38;5;129;01min\u001B[39;00m preprocessed]\n\u001B[1;32m     13\u001B[0m \u001B[38;5;28;01mreturn\u001B[39;00m ids\n",
      "\u001B[0;31mKeyError\u001B[0m: 'Is'"
     ]
    }
   ],
   "execution_count": 72
  },
  {
   "metadata": {
    "ExecuteTime": {
     "end_time": "2025-08-24T08:49:55.535775Z",
     "start_time": "2025-08-24T08:49:55.532394Z"
    }
   },
   "cell_type": "code",
   "source": [
    "all_tokens = sorted(list(set(preprocessed)))\n",
    "all_tokens.extend([\"<|endoftext|>\", \"<|unk|>\", \"Hello\"])\n",
    "\n",
    "vocab = {token:integer for integer,token in enumerate(all_tokens)}"
   ],
   "id": "20332e3eda43e8c",
   "outputs": [],
   "execution_count": 78
  },
  {
   "metadata": {
    "ExecuteTime": {
     "end_time": "2025-08-24T08:44:16.242595Z",
     "start_time": "2025-08-24T08:44:16.240008Z"
    }
   },
   "cell_type": "code",
   "source": "len(vocab.items())",
   "id": "d9831787ee423295",
   "outputs": [
    {
     "data": {
      "text/plain": [
       "1133"
      ]
     },
     "execution_count": 75,
     "metadata": {},
     "output_type": "execute_result"
    }
   ],
   "execution_count": 75
  },
  {
   "metadata": {
    "ExecuteTime": {
     "end_time": "2025-08-24T08:41:11.018669Z",
     "start_time": "2025-08-24T08:41:11.016714Z"
    }
   },
   "cell_type": "code",
   "source": [
    "# 打印更新后词汇表的最后5个条目\n",
    "for i, item in enumerate(list(vocab.items())[-5:]):\n",
    "    print(item)"
   ],
   "id": "d24283a4ca5afc7b",
   "outputs": [
    {
     "name": "stdout",
     "output_type": "stream",
     "text": [
      "('your', 1128)\n",
      "('yourself', 1129)\n",
      "('<|endoftext|>', 1130)\n",
      "('<|unk|>', 1131)\n",
      "('Hello', 1132)\n"
     ]
    }
   ],
   "execution_count": 73
  },
  {
   "metadata": {
    "ExecuteTime": {
     "end_time": "2025-08-18T14:49:16.036092Z",
     "start_time": "2025-08-18T14:49:16.032364Z"
    }
   },
   "cell_type": "code",
   "source": [
    "class SimpleTokenizerV2:\n",
    "    def __init__(self, vocab):\n",
    "        self.str_to_int = vocab\n",
    "        self.int_to_str = { i:s for s,i in vocab.items()}\n",
    "\n",
    "    def encode(self, text):\n",
    "        preprocessed = re.split(r'([,.:;?_!\"()\\']|--|\\s)', text)\n",
    "        preprocessed = [item.strip() for item in preprocessed if item.strip()]\n",
    "        # 如果字符串不为空，我们就返回该字符串。\n",
    "        preprocessed = [\n",
    "            # 如果它在该词汇表中，返回为真\n",
    "            item if item in self.str_to_int\n",
    "            # 如果它不在词汇表中，则为假 我们将对这个未知标记返回未知\n",
    "            else \"<|unk|>\" for item in preprocessed\n",
    "        ]\n",
    "\n",
    "        ids = [self.str_to_int[s] for s in preprocessed]\n",
    "        return ids\n",
    "    #数映射回字符串来重新创建文本\n",
    "    def decode(self, ids):\n",
    "        text = \" \".join([self.int_to_str[i] for i in ids])\n",
    "        # 添加一个特殊规则\n",
    "        # Replace spaces before the specified punctuations\n",
    "        text = re.sub(r'\\s+([,.:;?!\"()\\'])', r'\\1', text)\n",
    "        return text"
   ],
   "id": "b9c051c65bc61860",
   "outputs": [],
   "execution_count": 22
  },
  {
   "metadata": {
    "ExecuteTime": {
     "end_time": "2025-08-24T08:51:18.025851Z",
     "start_time": "2025-08-24T08:51:18.023223Z"
    }
   },
   "cell_type": "code",
   "source": [
    "tokenizer = SimpleTokenizerV2(vocab)\n",
    "\n",
    "text1 = \"Hello, do you like tea?\"\n",
    "text2 = \"In the sunlit terraces of the palace.\"\n",
    "\n",
    "text = \" <|endoftext|> \".join((text1, text2))\n",
    "\n",
    "print(text)"
   ],
   "id": "15a1aad7942b79f8",
   "outputs": [
    {
     "name": "stdout",
     "output_type": "stream",
     "text": [
      "Hello, do you like tea? <|endoftext|> In the sunlit terraces of the palace.\n"
     ]
    }
   ],
   "execution_count": 83
  },
  {
   "metadata": {
    "ExecuteTime": {
     "end_time": "2025-08-24T08:51:20.338244Z",
     "start_time": "2025-08-24T08:51:20.335098Z"
    }
   },
   "cell_type": "code",
   "source": "tokenizer.encode(text)",
   "id": "cef989ee9b8afcf5",
   "outputs": [
    {
     "data": {
      "text/plain": [
       "[1132, 5, 355, 1126, 628, 975, 10, 1130, 55, 988, 956, 984, 722, 988, 1131, 7]"
      ]
     },
     "execution_count": 84,
     "metadata": {},
     "output_type": "execute_result"
    }
   ],
   "execution_count": 84
  },
  {
   "metadata": {
    "ExecuteTime": {
     "end_time": "2025-08-24T08:51:21.989222Z",
     "start_time": "2025-08-24T08:51:21.985456Z"
    }
   },
   "cell_type": "code",
   "source": "tokenizer.decode(tokenizer.encode(text))",
   "id": "7fbf74ecea4554eb",
   "outputs": [
    {
     "data": {
      "text/plain": [
       "'Hello, do you like tea? <|endoftext|> In the sunlit terraces of the <|unk|>.'"
      ]
     },
     "execution_count": 85,
     "metadata": {},
     "output_type": "execute_result"
    }
   ],
   "execution_count": 85
  },
  {
   "metadata": {},
   "cell_type": "markdown",
   "source": "### BytePair encoding",
   "id": "e9bb14156da81eaa"
  },
  {
   "metadata": {
    "ExecuteTime": {
     "end_time": "2025-08-18T14:51:19.121794Z",
     "start_time": "2025-08-18T14:51:17.966355Z"
    }
   },
   "cell_type": "code",
   "source": "#pip install tiktoken",
   "id": "5e9a00295d43a02a",
   "outputs": [
    {
     "name": "stdout",
     "output_type": "stream",
     "text": [
      "Requirement already satisfied: tiktoken in /opt/anaconda3/lib/python3.12/site-packages (0.11.0)\r\n",
      "Requirement already satisfied: regex>=2022.1.18 in /opt/anaconda3/lib/python3.12/site-packages (from tiktoken) (2024.9.11)\r\n",
      "Requirement already satisfied: requests>=2.26.0 in /opt/anaconda3/lib/python3.12/site-packages (from tiktoken) (2.32.3)\r\n",
      "Requirement already satisfied: charset-normalizer<4,>=2 in /opt/anaconda3/lib/python3.12/site-packages (from requests>=2.26.0->tiktoken) (3.3.2)\r\n",
      "Requirement already satisfied: idna<4,>=2.5 in /opt/anaconda3/lib/python3.12/site-packages (from requests>=2.26.0->tiktoken) (3.7)\r\n",
      "Requirement already satisfied: urllib3<3,>=1.21.1 in /opt/anaconda3/lib/python3.12/site-packages (from requests>=2.26.0->tiktoken) (2.2.3)\r\n",
      "Requirement already satisfied: certifi>=2017.4.17 in /opt/anaconda3/lib/python3.12/site-packages (from requests>=2.26.0->tiktoken) (2025.1.31)\r\n",
      "Note: you may need to restart the kernel to use updated packages.\n"
     ]
    }
   ],
   "execution_count": 26
  },
  {
   "metadata": {
    "ExecuteTime": {
     "end_time": "2025-08-24T09:19:33.991747Z",
     "start_time": "2025-08-24T09:19:33.988472Z"
    }
   },
   "cell_type": "code",
   "source": [
    "import importlib\n",
    "import tiktoken\n",
    "\n",
    "print(\"tiktoken version:\", importlib.metadata.version(\"tiktoken\"))"
   ],
   "id": "36e5985ec7a20367",
   "outputs": [
    {
     "name": "stdout",
     "output_type": "stream",
     "text": [
      "tiktoken version: 0.11.0\n"
     ]
    }
   ],
   "execution_count": 87
  },
  {
   "metadata": {
    "ExecuteTime": {
     "end_time": "2025-08-24T09:21:28.292884Z",
     "start_time": "2025-08-24T09:21:28.290705Z"
    }
   },
   "cell_type": "code",
   "source": [
    "# 通过tiktoken实例化BPE分词器\n",
    "tokenizer = tiktoken.get_encoding(\"gpt2\")"
   ],
   "id": "6131f5414b291f2c",
   "outputs": [],
   "execution_count": 88
  },
  {
   "metadata": {
    "ExecuteTime": {
     "end_time": "2025-08-18T14:53:35.277294Z",
     "start_time": "2025-08-18T14:53:35.274508Z"
    }
   },
   "cell_type": "code",
   "source": [
    "text = (\n",
    "    \"Hello, do you like tea? <|endoftext|> In the sunlit terraces\"\n",
    "     \"of someunknownPlace.\"\n",
    ")\n",
    "\n",
    "# 启用特殊标记\n",
    "integers = tokenizer.encode(text, allowed_special={\"<|endoftext|>\"})\n",
    "\n",
    "print(integers)"
   ],
   "id": "14ed8c6d1a8f8205",
   "outputs": [
    {
     "name": "stdout",
     "output_type": "stream",
     "text": [
      "[15496, 11, 466, 345, 588, 8887, 30, 220, 50256, 554, 262, 4252, 18250, 8812, 2114, 1659, 617, 34680, 27271, 13]\n"
     ]
    }
   ],
   "execution_count": 29
  },
  {
   "metadata": {
    "ExecuteTime": {
     "end_time": "2025-08-18T14:53:52.452205Z",
     "start_time": "2025-08-18T14:53:52.449633Z"
    }
   },
   "cell_type": "code",
   "source": [
    "strings = tokenizer.decode(integers)\n",
    "\n",
    "print(strings)"
   ],
   "id": "754d6cda998b658f",
   "outputs": [
    {
     "name": "stdout",
     "output_type": "stream",
     "text": [
      "Hello, do you like tea? <|endoftext|> In the sunlit terracesof someunknownPlace.\n"
     ]
    }
   ],
   "execution_count": 30
  },
  {
   "metadata": {},
   "cell_type": "markdown",
   "source": "### Data sampling with a sliding window",
   "id": "6f2c62af64e109be"
  },
  {
   "metadata": {
    "ExecuteTime": {
     "end_time": "2025-08-24T09:53:50.969076Z",
     "start_time": "2025-08-24T09:53:50.964214Z"
    }
   },
   "cell_type": "code",
   "source": [
    "with open(\"the-verdict.txt\", \"r\", encoding=\"utf-8\") as f:\n",
    "    raw_text = f.read()\n",
    "\n",
    "# 执行上述代码输出 5145，这表示在训练集上应用BPE分词器后，返回的token总数。\n",
    "enc_text = tokenizer.encode(raw_text)\n",
    "print(len(enc_text))"
   ],
   "id": "2b8518eb3db41853",
   "outputs": [
    {
     "name": "stdout",
     "output_type": "stream",
     "text": [
      "5145\n"
     ]
    }
   ],
   "execution_count": 89
  },
  {
   "metadata": {
    "ExecuteTime": {
     "end_time": "2025-08-24T09:56:55.361134Z",
     "start_time": "2025-08-24T09:56:55.353794Z"
    }
   },
   "cell_type": "code",
   "source": "enc_sample = enc_text[50:]\n",
   "id": "9f3ca4f2f53347d",
   "outputs": [
    {
     "data": {
      "text/plain": [
       "[290,\n",
       " 4920,\n",
       " 2241,\n",
       " 287,\n",
       " 257,\n",
       " 4489,\n",
       " 64,\n",
       " 319,\n",
       " 262,\n",
       " 34686,\n",
       " 41976,\n",
       " 13,\n",
       " 357,\n",
       " 10915,\n",
       " 314,\n",
       " 2138,\n",
       " 1807,\n",
       " 340,\n",
       " 561,\n",
       " 423,\n",
       " 587,\n",
       " 10598,\n",
       " 393,\n",
       " 28537,\n",
       " 2014,\n",
       " 198,\n",
       " 198,\n",
       " 1,\n",
       " 464,\n",
       " 6001,\n",
       " 286,\n",
       " 465,\n",
       " 13476,\n",
       " 1,\n",
       " 438,\n",
       " 5562,\n",
       " 373,\n",
       " 644,\n",
       " 262,\n",
       " 1466,\n",
       " 1444,\n",
       " 340,\n",
       " 13,\n",
       " 314,\n",
       " 460,\n",
       " 3285,\n",
       " 9074,\n",
       " 13,\n",
       " 46606,\n",
       " 536,\n",
       " 5469,\n",
       " 438,\n",
       " 14363,\n",
       " 938,\n",
       " 4842,\n",
       " 1650,\n",
       " 353,\n",
       " 438,\n",
       " 2934,\n",
       " 489,\n",
       " 3255,\n",
       " 465,\n",
       " 48422,\n",
       " 540,\n",
       " 450,\n",
       " 67,\n",
       " 3299,\n",
       " 13,\n",
       " 366,\n",
       " 5189,\n",
       " 1781,\n",
       " 340,\n",
       " 338,\n",
       " 1016,\n",
       " 284,\n",
       " 3758,\n",
       " 262,\n",
       " 1988,\n",
       " 286,\n",
       " 616,\n",
       " 4286,\n",
       " 705,\n",
       " 1014,\n",
       " 510,\n",
       " 26,\n",
       " 475,\n",
       " 314,\n",
       " 836,\n",
       " 470,\n",
       " 892,\n",
       " 286,\n",
       " 326,\n",
       " 11,\n",
       " 1770,\n",
       " 13,\n",
       " 8759,\n",
       " 2763,\n",
       " 438,\n",
       " 1169,\n",
       " 2994,\n",
       " 284,\n",
       " 943,\n",
       " 17034,\n",
       " 318,\n",
       " 477,\n",
       " 314,\n",
       " 892,\n",
       " 286,\n",
       " 526,\n",
       " 383,\n",
       " 1573,\n",
       " 11,\n",
       " 319,\n",
       " 9074,\n",
       " 13,\n",
       " 536,\n",
       " 5469,\n",
       " 338,\n",
       " 11914,\n",
       " 11,\n",
       " 33096,\n",
       " 663,\n",
       " 4808,\n",
       " 3808,\n",
       " 62,\n",
       " 355,\n",
       " 996,\n",
       " 484,\n",
       " 547,\n",
       " 12548,\n",
       " 287,\n",
       " 281,\n",
       " 13079,\n",
       " 410,\n",
       " 12523,\n",
       " 286,\n",
       " 22353,\n",
       " 13,\n",
       " 843,\n",
       " 340,\n",
       " 373,\n",
       " 407,\n",
       " 691,\n",
       " 262,\n",
       " 9074,\n",
       " 13,\n",
       " 536,\n",
       " 48819,\n",
       " 508,\n",
       " 25722,\n",
       " 276,\n",
       " 13,\n",
       " 11161,\n",
       " 407,\n",
       " 262,\n",
       " 40123,\n",
       " 18113,\n",
       " 544,\n",
       " 9325,\n",
       " 701,\n",
       " 11,\n",
       " 379,\n",
       " 262,\n",
       " 938,\n",
       " 402,\n",
       " 1617,\n",
       " 261,\n",
       " 12917,\n",
       " 905,\n",
       " 11,\n",
       " 5025,\n",
       " 502,\n",
       " 878,\n",
       " 402,\n",
       " 271,\n",
       " 10899,\n",
       " 338,\n",
       " 366,\n",
       " 31640,\n",
       " 12,\n",
       " 67,\n",
       " 20811,\n",
       " 1,\n",
       " 284,\n",
       " 910,\n",
       " 11,\n",
       " 351,\n",
       " 10953,\n",
       " 287,\n",
       " 607,\n",
       " 2951,\n",
       " 25,\n",
       " 366,\n",
       " 1135,\n",
       " 2236,\n",
       " 407,\n",
       " 804,\n",
       " 2402,\n",
       " 663,\n",
       " 588,\n",
       " 757,\n",
       " 13984,\n",
       " 198,\n",
       " 198,\n",
       " 5779,\n",
       " 28112,\n",
       " 10197,\n",
       " 832,\n",
       " 262,\n",
       " 46475,\n",
       " 286,\n",
       " 18113,\n",
       " 544,\n",
       " 338,\n",
       " 10953,\n",
       " 314,\n",
       " 2936,\n",
       " 1498,\n",
       " 284,\n",
       " 1986,\n",
       " 262,\n",
       " 1109,\n",
       " 351,\n",
       " 1602,\n",
       " 11227,\n",
       " 414,\n",
       " 13,\n",
       " 23676,\n",
       " 3619,\n",
       " 402,\n",
       " 271,\n",
       " 10899,\n",
       " 0,\n",
       " 383,\n",
       " 1466,\n",
       " 550,\n",
       " 925,\n",
       " 683,\n",
       " 438,\n",
       " 270,\n",
       " 373,\n",
       " 15830,\n",
       " 326,\n",
       " 484,\n",
       " 815,\n",
       " 25722,\n",
       " 683,\n",
       " 13,\n",
       " 9754,\n",
       " 465,\n",
       " 898,\n",
       " 1714,\n",
       " 7380,\n",
       " 30090,\n",
       " 547,\n",
       " 2982,\n",
       " 11,\n",
       " 290,\n",
       " 287,\n",
       " 465,\n",
       " 898,\n",
       " 3292,\n",
       " 8941,\n",
       " 257,\n",
       " 4636,\n",
       " 28582,\n",
       " 13,\n",
       " 18612,\n",
       " 35394,\n",
       " 30,\n",
       " 8673,\n",
       " 13,\n",
       " 1002,\n",
       " 340,\n",
       " 547,\n",
       " 11,\n",
       " 262,\n",
       " 15393,\n",
       " 286,\n",
       " 262,\n",
       " 5977,\n",
       " 373,\n",
       " 29178,\n",
       " 3474,\n",
       " 416,\n",
       " 1310,\n",
       " 40559,\n",
       " 11959,\n",
       " 1636,\n",
       " 11,\n",
       " 508,\n",
       " 11,\n",
       " 287,\n",
       " 477,\n",
       " 922,\n",
       " 4562,\n",
       " 11,\n",
       " 3181,\n",
       " 503,\n",
       " 287,\n",
       " 262,\n",
       " 37090,\n",
       " 257,\n",
       " 845,\n",
       " 22665,\n",
       " 366,\n",
       " 672,\n",
       " 270,\n",
       " 2838,\n",
       " 1,\n",
       " 319,\n",
       " 3619,\n",
       " 438,\n",
       " 505,\n",
       " 286,\n",
       " 883,\n",
       " 905,\n",
       " 88,\n",
       " 6685,\n",
       " 42070,\n",
       " 351,\n",
       " 4738,\n",
       " 6276,\n",
       " 871,\n",
       " 326,\n",
       " 314,\n",
       " 423,\n",
       " 2982,\n",
       " 357,\n",
       " 40,\n",
       " 1839,\n",
       " 470,\n",
       " 910,\n",
       " 416,\n",
       " 4150,\n",
       " 8,\n",
       " 3688,\n",
       " 284,\n",
       " 402,\n",
       " 271,\n",
       " 10899,\n",
       " 338,\n",
       " 12036,\n",
       " 13,\n",
       " 843,\n",
       " 523,\n",
       " 438,\n",
       " 14363,\n",
       " 10568,\n",
       " 852,\n",
       " 5729,\n",
       " 11331,\n",
       " 18893,\n",
       " 540,\n",
       " 438,\n",
       " 1169,\n",
       " 5114,\n",
       " 11835,\n",
       " 3724,\n",
       " 503,\n",
       " 11,\n",
       " 290,\n",
       " 11,\n",
       " 355,\n",
       " 9074,\n",
       " 13,\n",
       " 536,\n",
       " 5469,\n",
       " 550,\n",
       " 11001,\n",
       " 11,\n",
       " 262,\n",
       " 2756,\n",
       " 286,\n",
       " 366,\n",
       " 38,\n",
       " 271,\n",
       " 10899,\n",
       " 82,\n",
       " 1,\n",
       " 1816,\n",
       " 510,\n",
       " 13,\n",
       " 198,\n",
       " 198,\n",
       " 1026,\n",
       " 373,\n",
       " 407,\n",
       " 10597,\n",
       " 1115,\n",
       " 812,\n",
       " 1568,\n",
       " 326,\n",
       " 11,\n",
       " 287,\n",
       " 262,\n",
       " 1781,\n",
       " 286,\n",
       " 257,\n",
       " 1178,\n",
       " 2745,\n",
       " 6,\n",
       " 4686,\n",
       " 1359,\n",
       " 319,\n",
       " 262,\n",
       " 34686,\n",
       " 41976,\n",
       " 11,\n",
       " 340,\n",
       " 6451,\n",
       " 5091,\n",
       " 284,\n",
       " 502,\n",
       " 284,\n",
       " 4240,\n",
       " 1521,\n",
       " 402,\n",
       " 271,\n",
       " 10899,\n",
       " 550,\n",
       " 1813,\n",
       " 510,\n",
       " 465,\n",
       " 12036,\n",
       " 13,\n",
       " 1550,\n",
       " 14580,\n",
       " 11,\n",
       " 340,\n",
       " 1107,\n",
       " 373,\n",
       " 257,\n",
       " 29850,\n",
       " 1917,\n",
       " 13,\n",
       " 1675,\n",
       " 24456,\n",
       " 465,\n",
       " 3656,\n",
       " 561,\n",
       " 423,\n",
       " 587,\n",
       " 1165,\n",
       " 2562,\n",
       " 438,\n",
       " 14363,\n",
       " 3148,\n",
       " 1650,\n",
       " 1010,\n",
       " 550,\n",
       " 587,\n",
       " 6699,\n",
       " 262,\n",
       " 1540,\n",
       " 558,\n",
       " 286,\n",
       " 2282,\n",
       " 326,\n",
       " 9074,\n",
       " 13,\n",
       " 402,\n",
       " 271,\n",
       " 10899,\n",
       " 550,\n",
       " 366,\n",
       " 7109,\n",
       " 14655,\n",
       " 683,\n",
       " 866,\n",
       " 526,\n",
       " 1114,\n",
       " 9074,\n",
       " 13,\n",
       " 402,\n",
       " 271,\n",
       " 10899,\n",
       " 438,\n",
       " 292,\n",
       " 884,\n",
       " 438,\n",
       " 18108,\n",
       " 407,\n",
       " 11196,\n",
       " 10597,\n",
       " 3016,\n",
       " 257,\n",
       " 614,\n",
       " 706,\n",
       " 3619,\n",
       " 338,\n",
       " 10568,\n",
       " 550,\n",
       " 587,\n",
       " 2077,\n",
       " 13,\n",
       " 632,\n",
       " 1244,\n",
       " 307,\n",
       " 326,\n",
       " 339,\n",
       " 550,\n",
       " 6405,\n",
       " 607,\n",
       " 438,\n",
       " 20777,\n",
       " 339,\n",
       " 8288,\n",
       " 465,\n",
       " 10152,\n",
       " 438,\n",
       " 13893,\n",
       " 339,\n",
       " 1422,\n",
       " 470,\n",
       " 765,\n",
       " 284,\n",
       " 467,\n",
       " 319,\n",
       " 12036,\n",
       " 26,\n",
       " 475,\n",
       " 340,\n",
       " 561,\n",
       " 423,\n",
       " 587,\n",
       " 1327,\n",
       " 284,\n",
       " 5879,\n",
       " 326,\n",
       " 339,\n",
       " 550,\n",
       " 1813,\n",
       " 510,\n",
       " 465,\n",
       " 12036,\n",
       " 780,\n",
       " 339,\n",
       " 550,\n",
       " 6405,\n",
       " 607,\n",
       " 13,\n",
       " 198,\n",
       " 198,\n",
       " 5189,\n",
       " 1781,\n",
       " 11,\n",
       " 611,\n",
       " 673,\n",
       " 550,\n",
       " 407,\n",
       " 17901,\n",
       " 683,\n",
       " 866,\n",
       " 11,\n",
       " 673,\n",
       " 550,\n",
       " 8603,\n",
       " 11,\n",
       " 355,\n",
       " 4544,\n",
       " 9325,\n",
       " 701,\n",
       " 42397,\n",
       " 11,\n",
       " 4054,\n",
       " 284,\n",
       " 366,\n",
       " 26282,\n",
       " 683,\n",
       " 510,\n",
       " 1,\n",
       " 438,\n",
       " 7091,\n",
       " 550,\n",
       " 407,\n",
       " 2957,\n",
       " 683,\n",
       " 736,\n",
       " 284,\n",
       " 262,\n",
       " 1396,\n",
       " 417,\n",
       " 13,\n",
       " 1675,\n",
       " 1234,\n",
       " 262,\n",
       " 14093,\n",
       " 656,\n",
       " 465,\n",
       " 1021,\n",
       " 757,\n",
       " 438,\n",
       " 10919,\n",
       " 257,\n",
       " 410,\n",
       " 5040,\n",
       " 329,\n",
       " 257,\n",
       " 3656,\n",
       " 0,\n",
       " 887,\n",
       " 9074,\n",
       " 13,\n",
       " 402,\n",
       " 271,\n",
       " 10899,\n",
       " 4120,\n",
       " 284,\n",
       " 423,\n",
       " 595,\n",
       " 67,\n",
       " 1328,\n",
       " 340,\n",
       " 438,\n",
       " 392,\n",
       " 314,\n",
       " 2936,\n",
       " 340,\n",
       " 1244,\n",
       " 307,\n",
       " 3499,\n",
       " 284,\n",
       " 1064,\n",
       " 503,\n",
       " 1521,\n",
       " 13,\n",
       " 198,\n",
       " 198,\n",
       " 464,\n",
       " 748,\n",
       " 586,\n",
       " 652,\n",
       " 1204,\n",
       " 286,\n",
       " 262,\n",
       " 34686,\n",
       " 41976,\n",
       " 37733,\n",
       " 2346,\n",
       " 284,\n",
       " 884,\n",
       " 14177,\n",
       " 8233,\n",
       " 1020,\n",
       " 5768,\n",
       " 26,\n",
       " 290,\n",
       " 1719,\n",
       " 11,\n",
       " 319,\n",
       " 616,\n",
       " 835,\n",
       " 284,\n",
       " 22489,\n",
       " 40089,\n",
       " 11,\n",
       " 4978,\n",
       " 257,\n",
       " 19350,\n",
       " 286,\n",
       " 3619,\n",
       " 338,\n",
       " 3652,\n",
       " 436,\n",
       " 81,\n",
       " 5286,\n",
       " 8812,\n",
       " 2114,\n",
       " 1022,\n",
       " 262,\n",
       " 279,\n",
       " 1127,\n",
       " 11,\n",
       " 314,\n",
       " 550,\n",
       " 3589,\n",
       " 28068,\n",
       " 294,\n",
       " 1555,\n",
       " 262,\n",
       " 1306,\n",
       " 1110,\n",
       " 13,\n",
       " 198,\n",
       " 198,\n",
       " 40,\n",
       " 1043,\n",
       " 262,\n",
       " 3155,\n",
       " 379,\n",
       " 8887,\n",
       " 11061,\n",
       " 511,\n",
       " 18057,\n",
       " 12,\n",
       " 83,\n",
       " 6037,\n",
       " 26,\n",
       " 290,\n",
       " 9074,\n",
       " 13,\n",
       " 402,\n",
       " 271,\n",
       " 10899,\n",
       " 338,\n",
       " 7062,\n",
       " 373,\n",
       " 523,\n",
       " 2429,\n",
       " 498,\n",
       " 326,\n",
       " 11,\n",
       " 287,\n",
       " 262,\n",
       " 29543,\n",
       " 2745,\n",
       " 11,\n",
       " 314,\n",
       " 4752,\n",
       " 340,\n",
       " 6777,\n",
       " 13,\n",
       " 632,\n",
       " 373,\n",
       " 407,\n",
       " 326,\n",
       " 616,\n",
       " 2583,\n",
       " 408,\n",
       " 373,\n",
       " 366,\n",
       " 47914,\n",
       " 1298,\n",
       " 319,\n",
       " 326,\n",
       " 966,\n",
       " 314,\n",
       " 714,\n",
       " 423,\n",
       " 1813,\n",
       " 4544,\n",
       " 9325,\n",
       " 701,\n",
       " 262,\n",
       " 40830,\n",
       " 12719,\n",
       " 3874,\n",
       " 13,\n",
       " 632,\n",
       " 373,\n",
       " 655,\n",
       " 780,\n",
       " 673,\n",
       " 373,\n",
       " 4808,\n",
       " 1662,\n",
       " 62,\n",
       " 3499,\n",
       " 438,\n",
       " 361,\n",
       " 314,\n",
       " 743,\n",
       " 307,\n",
       " 41746,\n",
       " 12004,\n",
       " 262,\n",
       " 6473,\n",
       " 438,\n",
       " 5562,\n",
       " 314,\n",
       " 1043,\n",
       " 607,\n",
       " 523,\n",
       " 13,\n",
       " 1114,\n",
       " 3619,\n",
       " 11,\n",
       " 477,\n",
       " 465,\n",
       " 1204,\n",
       " 11,\n",
       " 550,\n",
       " 587,\n",
       " 11191,\n",
       " 416,\n",
       " 3499,\n",
       " 1466,\n",
       " 25,\n",
       " 484,\n",
       " 550,\n",
       " 26546,\n",
       " 1068,\n",
       " 465,\n",
       " 1242,\n",
       " 11,\n",
       " 340,\n",
       " 550,\n",
       " 587,\n",
       " 302,\n",
       " 1144,\n",
       " 287,\n",
       " 262,\n",
       " 3024,\n",
       " 12,\n",
       " 4803,\n",
       " 286,\n",
       " 511,\n",
       " 512,\n",
       " 1741,\n",
       " 13,\n",
       " 843,\n",
       " 340,\n",
       " 373,\n",
       " 4361,\n",
       " 5048,\n",
       " 425,\n",
       " 284,\n",
       " 3465,\n",
       " 644,\n",
       " 1245,\n",
       " 262,\n",
       " 366,\n",
       " 25124,\n",
       " 3101,\n",
       " 8137,\n",
       " 286,\n",
       " 16957,\n",
       " 1696,\n",
       " 414,\n",
       " 1,\n",
       " 357,\n",
       " 40,\n",
       " 9577,\n",
       " 4544,\n",
       " 9325,\n",
       " 701,\n",
       " 8,\n",
       " 373,\n",
       " 1719,\n",
       " 319,\n",
       " 683,\n",
       " 13,\n",
       " 198,\n",
       " 198,\n",
       " 40,\n",
       " 423,\n",
       " 4750,\n",
       " 326,\n",
       " 9074,\n",
       " 13,\n",
       " 402,\n",
       " 271,\n",
       " 10899,\n",
       " 373,\n",
       " 5527,\n",
       " 26,\n",
       " 290,\n",
       " 340,\n",
       " 373,\n",
       " 3393,\n",
       " 34953,\n",
       " 856,\n",
       " 326,\n",
       " 607,\n",
       " 5229,\n",
       " 373,\n",
       " 37895,\n",
       " 422,\n",
       " 428,\n",
       " 25179,\n",
       " 257,\n",
       " 19217,\n",
       " 475,\n",
       " 8904,\n",
       " 14676,\n",
       " 13,\n",
       " 632,\n",
       " 318,\n",
       " 11,\n",
       " 355,\n",
       " 257,\n",
       " 3896,\n",
       " 11,\n",
       " 262,\n",
       " 661,\n",
       " 508,\n",
       " 40987,\n",
       " 1637,\n",
       " 508,\n",
       " 651,\n",
       " 749,\n",
       " 503,\n",
       " 286,\n",
       " 340,\n",
       " 26,\n",
       " 290,\n",
       " 3619,\n",
       " 338,\n",
       " 19992,\n",
       " 31564,\n",
       " 286,\n",
       " 465,\n",
       " 3656,\n",
       " 338,\n",
       " 1263,\n",
       " 5236,\n",
       " 9343,\n",
       " 683,\n",
       " 11,\n",
       " 351,\n",
       " 281,\n",
       " 5585,\n",
       " 286,\n",
       " 2818,\n",
       " 922,\n",
       " 12,\n",
       " 49705,\n",
       " 11,\n",
       " 284,\n",
       " 21595,\n",
       " 1133,\n",
       " 340,\n",
       " 656,\n",
       " 5563,\n",
       " 286,\n",
       " 1242,\n",
       " 290,\n",
       " 13064,\n",
       " 13,\n",
       " 1675,\n",
       " 262,\n",
       " 6846,\n",
       " 11,\n",
       " 314,\n",
       " 1276,\n",
       " 751,\n",
       " 11,\n",
       " 339,\n",
       " 6150,\n",
       " 5365,\n",
       " 31655,\n",
       " 26,\n",
       " 475,\n",
       " 339,\n",
       " 373,\n",
       " 7067,\n",
       " 29396,\n",
       " 18443,\n",
       " 12271,\n",
       " 290,\n",
       " 45592,\n",
       " 12,\n",
       " 14792,\n",
       " 5986,\n",
       " 351,\n",
       " 257,\n",
       " 8839,\n",
       " 326,\n",
       " 7284,\n",
       " 35924,\n",
       " 262,\n",
       " 12306,\n",
       " 395,\n",
       " 4133,\n",
       " 13,\n",
       " 198,\n",
       " 198,\n",
       " 1,\n",
       " 26788,\n",
       " 338,\n",
       " 691,\n",
       " 12226,\n",
       " 318,\n",
       " 284,\n",
       " 1234,\n",
       " 8737,\n",
       " 656,\n",
       " 19133,\n",
       " 553,\n",
       " 373,\n",
       " 530,\n",
       " 286,\n",
       " 262,\n",
       " 7877,\n",
       " 72,\n",
       " 3150,\n",
       " 339,\n",
       " 8104,\n",
       " 866,\n",
       " 1973,\n",
       " 262,\n",
       " 37918,\n",
       " 411,\n",
       " 290,\n",
       " 8465,\n",
       " 286,\n",
       " 281,\n",
       " 33954,\n",
       " 271,\n",
       " ...]"
      ]
     },
     "execution_count": 91,
     "metadata": {},
     "output_type": "execute_result"
    }
   ],
   "execution_count": 91
  },
  {
   "metadata": {
    "ExecuteTime": {
     "end_time": "2025-08-24T09:58:25.719789Z",
     "start_time": "2025-08-24T09:58:25.716889Z"
    }
   },
   "cell_type": "code",
   "source": [
    "context_size = 4\n",
    "\n",
    "x = enc_sample[:context_size]\n",
    "y = enc_sample[1:context_size+1]\n",
    "\n",
    "print(f\"x: {x}\")\n",
    "print(f\"y:      {y}\")"
   ],
   "id": "187a35eeba0b32ac",
   "outputs": [
    {
     "name": "stdout",
     "output_type": "stream",
     "text": [
      "x: [290, 4920, 2241, 287]\n",
      "y:      [4920, 2241, 287, 257]\n"
     ]
    }
   ],
   "execution_count": 93
  },
  {
   "metadata": {
    "ExecuteTime": {
     "end_time": "2025-08-24T09:58:30.447875Z",
     "start_time": "2025-08-24T09:58:30.445651Z"
    }
   },
   "cell_type": "code",
   "source": [
    "for i in range(1, context_size+1):\n",
    "    context = enc_sample[:i]\n",
    "    desired = enc_sample[i]\n",
    "\n",
    "    print(context, \"---->\", desired)"
   ],
   "id": "4437be2738c41c57",
   "outputs": [
    {
     "name": "stdout",
     "output_type": "stream",
     "text": [
      "[290] ----> 4920\n",
      "[290, 4920] ----> 2241\n",
      "[290, 4920, 2241] ----> 287\n",
      "[290, 4920, 2241, 287] ----> 257\n"
     ]
    }
   ],
   "execution_count": 94
  },
  {
   "metadata": {
    "ExecuteTime": {
     "end_time": "2025-08-24T09:59:32.370135Z",
     "start_time": "2025-08-24T09:59:32.366980Z"
    }
   },
   "cell_type": "code",
   "source": [
    "for i in range(1, context_size+1):\n",
    "    context = enc_sample[:i]\n",
    "    desired = enc_sample[i]\n",
    "\n",
    "    print(tokenizer.decode(context), \"---->\", tokenizer.decode([desired]))"
   ],
   "id": "96f8738916c08ba4",
   "outputs": [
    {
     "name": "stdout",
     "output_type": "stream",
     "text": [
      " and ---->  established\n",
      " and established ---->  himself\n",
      " and established himself ---->  in\n",
      " and established himself in ---->  a\n"
     ]
    }
   ],
   "execution_count": 95
  },
  {
   "metadata": {
    "ExecuteTime": {
     "end_time": "2025-08-18T14:55:52.799440Z",
     "start_time": "2025-08-18T14:55:50.291968Z"
    }
   },
   "cell_type": "code",
   "source": [
    "import torch\n",
    "print(\"PyTorch version:\", torch.__version__)"
   ],
   "id": "37e5cc52abbd2d92",
   "outputs": [
    {
     "name": "stdout",
     "output_type": "stream",
     "text": [
      "PyTorch version: 2.5.1\n"
     ]
    }
   ],
   "execution_count": 36
  },
  {
   "metadata": {
    "ExecuteTime": {
     "end_time": "2025-08-24T10:14:30.530614Z",
     "start_time": "2025-08-24T10:14:30.527484Z"
    }
   },
   "cell_type": "code",
   "source": [
    "from torch.utils.data import Dataset, DataLoader\n",
    "\n",
    "\n",
    "class GPTDatasetV1(Dataset):\n",
    "    def __init__(self, txt, tokenizer, max_length, stride):\n",
    "        self.input_ids = []\n",
    "        self.target_ids = []\n",
    "\n",
    "        # Tokenize the entire text 将整个文本进行分词\n",
    "        token_ids = tokenizer.encode(txt, allowed_special={\"<|endoftext|>\"})\n",
    "        assert len(token_ids) > max_length, \"Number of tokenized inputs must at least be equal to max_length+1\"\n",
    "\n",
    "        # Use a sliding window to chunk the book into overlapping sequences of max_length\n",
    "        for i in range(0, len(token_ids) - max_length, stride):\n",
    "            input_chunk = token_ids[i:i + max_length]\n",
    "            target_chunk = token_ids[i + 1: i + max_length + 1]\n",
    "            self.input_ids.append(torch.tensor(input_chunk))\n",
    "            self.target_ids.append(torch.tensor(target_chunk))\n",
    "\n",
    "    def __len__(self):\n",
    "        return len(self.input_ids)\n",
    "\n",
    "    def __getitem__(self, idx):\n",
    "        return self.input_ids[idx], self.target_ids[idx]"
   ],
   "id": "e51a4dcfd8fcfa82",
   "outputs": [],
   "execution_count": 96
  },
  {
   "metadata": {
    "ExecuteTime": {
     "end_time": "2025-08-24T10:14:36.110330Z",
     "start_time": "2025-08-24T10:14:36.107458Z"
    }
   },
   "cell_type": "code",
   "source": [
    "def create_dataloader_v1(txt, batch_size=4, max_length=256,\n",
    "                         stride=128, shuffle=True, drop_last=True,\n",
    "                         num_workers=0):\n",
    "\n",
    "    # Initialize the tokenizer\n",
    "    tokenizer = tiktoken.get_encoding(\"gpt2\")\n",
    "\n",
    "    # Create dataset\n",
    "    dataset = GPTDatasetV1(txt, tokenizer, max_length, stride)\n",
    "\n",
    "    # Create dataloader\n",
    "    dataloader = DataLoader(\n",
    "        dataset,\n",
    "        batch_size=batch_size,\n",
    "        shuffle=shuffle,\n",
    "        drop_last=drop_last,\n",
    "        num_workers=num_workers\n",
    "    )\n",
    "\n",
    "    return dataloader"
   ],
   "id": "55a3528d2a6c2862",
   "outputs": [],
   "execution_count": 97
  },
  {
   "metadata": {
    "ExecuteTime": {
     "end_time": "2025-08-24T10:16:33.826699Z",
     "start_time": "2025-08-24T10:16:33.824288Z"
    }
   },
   "cell_type": "code",
   "source": [
    "with open(\"the-verdict.txt\", \"r\", encoding=\"utf-8\") as f:\n",
    "    raw_text = f.read()"
   ],
   "id": "28bd10fa6df33f55",
   "outputs": [],
   "execution_count": 98
  },
  {
   "metadata": {
    "ExecuteTime": {
     "end_time": "2025-08-24T10:16:35.791816Z",
     "start_time": "2025-08-24T10:16:35.761586Z"
    }
   },
   "cell_type": "code",
   "source": [
    "dataloader = create_dataloader_v1(\n",
    "    raw_text, batch_size=1, max_length=4, stride=1, shuffle=False\n",
    ")\n",
    "\n",
    "data_iter = iter(dataloader)\n",
    "first_batch = next(data_iter)\n",
    "print(first_batch)"
   ],
   "id": "32fe4a839424ddd6",
   "outputs": [
    {
     "name": "stdout",
     "output_type": "stream",
     "text": [
      "[tensor([[  40,  367, 2885, 1464]]), tensor([[ 367, 2885, 1464, 1807]])]\n"
     ]
    }
   ],
   "execution_count": 99
  },
  {
   "metadata": {
    "ExecuteTime": {
     "end_time": "2025-08-24T10:18:17.348071Z",
     "start_time": "2025-08-24T10:18:17.344524Z"
    }
   },
   "cell_type": "code",
   "source": [
    "second_batch = next(data_iter)\n",
    "print(second_batch)"
   ],
   "id": "c8b5721deb95a45c",
   "outputs": [
    {
     "name": "stdout",
     "output_type": "stream",
     "text": [
      "[tensor([[ 367, 2885, 1464, 1807]]), tensor([[2885, 1464, 1807, 3619]])]\n"
     ]
    }
   ],
   "execution_count": 100
  },
  {
   "metadata": {
    "ExecuteTime": {
     "end_time": "2025-08-24T11:23:33.159637Z",
     "start_time": "2025-08-24T11:23:33.146206Z"
    }
   },
   "cell_type": "code",
   "source": [
    "dataloader = create_dataloader_v1(raw_text, batch_size=8, max_length=4, stride=4, shuffle=False)\n",
    "\n",
    "data_iter = iter(dataloader)\n",
    "inputs, targets = next(data_iter)\n",
    "print(\"Inputs:\\n\", inputs)\n",
    "print(\"\\nTargets:\\n\", targets)"
   ],
   "id": "d33db29f70c386d4",
   "outputs": [
    {
     "name": "stdout",
     "output_type": "stream",
     "text": [
      "Inputs:\n",
      " tensor([[   40,   367,  2885,  1464],\n",
      "        [ 1807,  3619,   402,   271],\n",
      "        [10899,  2138,   257,  7026],\n",
      "        [15632,   438,  2016,   257],\n",
      "        [  922,  5891,  1576,   438],\n",
      "        [  568,   340,   373,   645],\n",
      "        [ 1049,  5975,   284,   502],\n",
      "        [  284,  3285,   326,    11]])\n",
      "\n",
      "Targets:\n",
      " tensor([[  367,  2885,  1464,  1807],\n",
      "        [ 3619,   402,   271, 10899],\n",
      "        [ 2138,   257,  7026, 15632],\n",
      "        [  438,  2016,   257,   922],\n",
      "        [ 5891,  1576,   438,   568],\n",
      "        [  340,   373,   645,  1049],\n",
      "        [ 5975,   284,   502,   284],\n",
      "        [ 3285,   326,    11,   287]])\n"
     ]
    }
   ],
   "execution_count": 124
  },
  {
   "metadata": {},
   "cell_type": "markdown",
   "source": "### Creating token embeddings",
   "id": "ac8dcb7a4c157a8a"
  },
  {
   "metadata": {
    "ExecuteTime": {
     "end_time": "2025-08-24T10:27:48.007284Z",
     "start_time": "2025-08-24T10:27:48.005025Z"
    }
   },
   "cell_type": "code",
   "source": "input_ids = torch.tensor([2, 3, 5, 1])",
   "id": "f289aa3c473b578d",
   "outputs": [],
   "execution_count": 101
  },
  {
   "metadata": {
    "ExecuteTime": {
     "end_time": "2025-08-24T10:32:18.851480Z",
     "start_time": "2025-08-24T10:32:18.847881Z"
    }
   },
   "cell_type": "code",
   "source": [
    "vocab_size = 6\n",
    "output_dim = 3\n",
    "\n",
    "torch.manual_seed(123)\n",
    "embedding_layer = torch.nn.Embedding(vocab_size, output_dim)"
   ],
   "id": "5e1a9ed5eed29d3d",
   "outputs": [],
   "execution_count": 103
  },
  {
   "metadata": {
    "ExecuteTime": {
     "end_time": "2025-08-24T10:32:22.441764Z",
     "start_time": "2025-08-24T10:32:22.438117Z"
    }
   },
   "cell_type": "code",
   "source": "print(embedding_layer.weight)",
   "id": "2e92a0566c6bb438",
   "outputs": [
    {
     "name": "stdout",
     "output_type": "stream",
     "text": [
      "Parameter containing:\n",
      "tensor([[ 0.3374, -0.1778, -0.1690],\n",
      "        [ 0.9178,  1.5810,  1.3010],\n",
      "        [ 1.2753, -0.2010, -0.1606],\n",
      "        [-0.4015,  0.9666, -1.1481],\n",
      "        [-1.1589,  0.3255, -0.6315],\n",
      "        [-2.8400, -0.7849, -1.4096]], requires_grad=True)\n"
     ]
    }
   ],
   "execution_count": 104
  },
  {
   "metadata": {
    "ExecuteTime": {
     "end_time": "2025-08-24T10:37:32.436271Z",
     "start_time": "2025-08-24T10:37:32.431657Z"
    }
   },
   "cell_type": "code",
   "source": [
    "\n",
    "print(embedding_layer(torch.tensor([3])))"
   ],
   "id": "7b2ef8086055b11f",
   "outputs": [
    {
     "name": "stdout",
     "output_type": "stream",
     "text": [
      "tensor([[-0.4015,  0.9666, -1.1481]], grad_fn=<EmbeddingBackward0>)\n"
     ]
    }
   ],
   "execution_count": 105
  },
  {
   "metadata": {
    "ExecuteTime": {
     "end_time": "2025-08-18T15:02:48.360419Z",
     "start_time": "2025-08-18T15:02:48.356962Z"
    }
   },
   "cell_type": "code",
   "source": "print(embedding_layer(input_ids))",
   "id": "c4f2fe9f0d7d703c",
   "outputs": [
    {
     "name": "stdout",
     "output_type": "stream",
     "text": [
      "tensor([[ 1.2753, -0.2010, -0.1606],\n",
      "        [-0.4015,  0.9666, -1.1481],\n",
      "        [-2.8400, -0.7849, -1.4096],\n",
      "        [ 0.9178,  1.5810,  1.3010]], grad_fn=<EmbeddingBackward0>)\n"
     ]
    }
   ],
   "execution_count": 47
  },
  {
   "metadata": {},
   "cell_type": "markdown",
   "source": "### Encoding word positions",
   "id": "afe816c28f7e38e8"
  },
  {
   "metadata": {
    "ExecuteTime": {
     "end_time": "2025-08-18T15:03:34.969461Z",
     "start_time": "2025-08-18T15:03:34.829674Z"
    }
   },
   "cell_type": "code",
   "source": [
    "vocab_size = 50257\n",
    "output_dim = 256\n",
    "\n",
    "token_embedding_layer = torch.nn.Embedding(vocab_size, output_dim)"
   ],
   "id": "6143546445667fbe",
   "outputs": [],
   "execution_count": 48
  },
  {
   "metadata": {
    "ExecuteTime": {
     "end_time": "2025-08-24T10:53:26.235809Z",
     "start_time": "2025-08-24T10:53:26.222990Z"
    }
   },
   "cell_type": "code",
   "source": [
    "max_length = 4\n",
    "dataloader = create_dataloader_v1(\n",
    "    raw_text, batch_size=8, max_length=max_length,\n",
    "    stride=max_length, shuffle=False\n",
    ")\n",
    "data_iter = iter(dataloader)\n",
    "inputs, targets = next(data_iter)"
   ],
   "id": "2333c04f43ada9e5",
   "outputs": [],
   "execution_count": 106
  },
  {
   "metadata": {
    "ExecuteTime": {
     "end_time": "2025-08-18T15:04:02.994213Z",
     "start_time": "2025-08-18T15:04:02.990805Z"
    }
   },
   "cell_type": "code",
   "source": [
    "print(\"Token IDs:\\n\", inputs)\n",
    "print(\"\\nInputs shape:\\n\", inputs.shape)"
   ],
   "id": "454e698114b25bf9",
   "outputs": [
    {
     "name": "stdout",
     "output_type": "stream",
     "text": [
      "Token IDs:\n",
      " tensor([[   40,   367,  2885,  1464],\n",
      "        [ 1807,  3619,   402,   271],\n",
      "        [10899,  2138,   257,  7026],\n",
      "        [15632,   438,  2016,   257],\n",
      "        [  922,  5891,  1576,   438],\n",
      "        [  568,   340,   373,   645],\n",
      "        [ 1049,  5975,   284,   502],\n",
      "        [  284,  3285,   326,    11]])\n",
      "\n",
      "Inputs shape:\n",
      " torch.Size([8, 4])\n"
     ]
    }
   ],
   "execution_count": 50
  },
  {
   "metadata": {
    "ExecuteTime": {
     "end_time": "2025-08-24T10:53:32.785888Z",
     "start_time": "2025-08-24T10:53:32.782578Z"
    }
   },
   "cell_type": "code",
   "source": [
    "token_embeddings = token_embedding_layer(inputs)\n",
    "print(token_embeddings.shape)\n",
    "\n",
    "# uncomment & execute the following line to see how the embeddings look like\n",
    "# print(token_embeddings)"
   ],
   "id": "7806eff800ab3afb",
   "outputs": [
    {
     "name": "stdout",
     "output_type": "stream",
     "text": [
      "torch.Size([8, 4, 256])\n"
     ]
    }
   ],
   "execution_count": 107
  },
  {
   "metadata": {
    "ExecuteTime": {
     "end_time": "2025-08-24T11:12:22.574845Z",
     "start_time": "2025-08-24T11:12:22.571784Z"
    }
   },
   "cell_type": "code",
   "source": [
    "context_length = max_length\n",
    "pos_embedding_layer = torch.nn.Embedding(context_length, output_dim)\n",
    "\n",
    "# uncomment & execute the following line to see how the embedding layer weights look like\n",
    "# print(pos_embedding_layer.weight)"
   ],
   "id": "ffb7dbadfe9addba",
   "outputs": [],
   "execution_count": 122
  },
  {
   "metadata": {
    "ExecuteTime": {
     "end_time": "2025-08-24T11:13:30.131135Z",
     "start_time": "2025-08-24T11:13:30.127999Z"
    }
   },
   "cell_type": "code",
   "source": [
    "pos_embeddings = pos_embedding_layer(torch.arange(max_length))\n",
    "print(pos_embeddings.shape)\n",
    "\n",
    "# uncomment & execute the following line to see how the embeddings look like\n",
    "# print(pos_embeddings)"
   ],
   "id": "2602b15ccfb6ea0f",
   "outputs": [
    {
     "name": "stdout",
     "output_type": "stream",
     "text": [
      "torch.Size([4, 3])\n"
     ]
    }
   ],
   "execution_count": 123
  },
  {
   "metadata": {
    "ExecuteTime": {
     "end_time": "2025-08-24T11:11:13.604215Z",
     "start_time": "2025-08-24T11:11:13.595047Z"
    }
   },
   "cell_type": "code",
   "source": [
    "input_embeddings = token_embeddings + pos_embeddings\n",
    "# print(input_embeddings.shape)\n",
    "\n",
    "# uncomment & execute the following line to see how the embeddings look like\n",
    "# print(input_embeddings)"
   ],
   "id": "da64e484f79c8c06",
   "outputs": [
    {
     "ename": "RuntimeError",
     "evalue": "The size of tensor a (256) must match the size of tensor b (3) at non-singleton dimension 2",
     "output_type": "error",
     "traceback": [
      "\u001B[0;31m---------------------------------------------------------------------------\u001B[0m",
      "\u001B[0;31mRuntimeError\u001B[0m                              Traceback (most recent call last)",
      "Cell \u001B[0;32mIn[119], line 1\u001B[0m\n\u001B[0;32m----> 1\u001B[0m input_embeddings \u001B[38;5;241m=\u001B[39m token_embeddings \u001B[38;5;241m+\u001B[39m pos_embeddings\n\u001B[1;32m      2\u001B[0m \u001B[38;5;28mprint\u001B[39m(input_embeddings\u001B[38;5;241m.\u001B[39mshape)\n",
      "\u001B[0;31mRuntimeError\u001B[0m: The size of tensor a (256) must match the size of tensor b (3) at non-singleton dimension 2"
     ]
    }
   ],
   "execution_count": 119
  }
 ],
 "metadata": {
  "kernelspec": {
   "display_name": "Python 3",
   "language": "python",
   "name": "python3"
  },
  "language_info": {
   "codemirror_mode": {
    "name": "ipython",
    "version": 2
   },
   "file_extension": ".py",
   "mimetype": "text/x-python",
   "name": "python",
   "nbconvert_exporter": "python",
   "pygments_lexer": "ipython2",
   "version": "2.7.6"
  }
 },
 "nbformat": 4,
 "nbformat_minor": 5
}
